{
 "cells": [
  {
   "cell_type": "code",
   "execution_count": 146,
   "id": "951ecf92",
   "metadata": {},
   "outputs": [],
   "source": [
    "#importing importent libraries\n",
    "import pandas as pd\n",
    "import numpy as np\n",
    "import matplotlib.pyplot as plt\n",
    "import seaborn as sns\n",
    "import scipy as sp\n",
    "import warnings\n",
    "import os \n",
    "\n",
    "warnings.filterwarnings(\"ignore\")\n",
    "import datetime"
   ]
  },
  {
   "cell_type": "code",
   "execution_count": 147,
   "id": "95b3f624",
   "metadata": {},
   "outputs": [
    {
     "data": {
      "text/html": [
       "<div>\n",
       "<style scoped>\n",
       "    .dataframe tbody tr th:only-of-type {\n",
       "        vertical-align: middle;\n",
       "    }\n",
       "\n",
       "    .dataframe tbody tr th {\n",
       "        vertical-align: top;\n",
       "    }\n",
       "\n",
       "    .dataframe thead th {\n",
       "        text-align: right;\n",
       "    }\n",
       "</style>\n",
       "<table border=\"1\" class=\"dataframe\">\n",
       "  <thead>\n",
       "    <tr style=\"text-align: right;\">\n",
       "      <th></th>\n",
       "      <th>body_temperature</th>\n",
       "      <th>breed_type</th>\n",
       "      <th>milk_production</th>\n",
       "      <th>respiratory_rate</th>\n",
       "      <th>walking_capacity</th>\n",
       "      <th>sleeping_duration</th>\n",
       "      <th>body_condition_score</th>\n",
       "      <th>heart_rate</th>\n",
       "      <th>eating_duration</th>\n",
       "      <th>lying_down_duration</th>\n",
       "      <th>ruminating</th>\n",
       "      <th>rumen_fill</th>\n",
       "      <th>faecal_consistency</th>\n",
       "      <th>health_status</th>\n",
       "    </tr>\n",
       "  </thead>\n",
       "  <tbody>\n",
       "    <tr>\n",
       "      <th>0</th>\n",
       "      <td>38.2</td>\n",
       "      <td>Cross Breed</td>\n",
       "      <td>13.6</td>\n",
       "      <td>36</td>\n",
       "      <td>12432</td>\n",
       "      <td>3.5</td>\n",
       "      <td>3</td>\n",
       "      <td>50</td>\n",
       "      <td>3.2</td>\n",
       "      <td>15.0</td>\n",
       "      <td>6.0</td>\n",
       "      <td>3</td>\n",
       "      <td>extremely firm</td>\n",
       "      <td>unhealthy</td>\n",
       "    </tr>\n",
       "    <tr>\n",
       "      <th>1</th>\n",
       "      <td>38.9</td>\n",
       "      <td>Normal Breed</td>\n",
       "      <td>24.1</td>\n",
       "      <td>37</td>\n",
       "      <td>11987</td>\n",
       "      <td>4.2</td>\n",
       "      <td>2</td>\n",
       "      <td>62</td>\n",
       "      <td>3.9</td>\n",
       "      <td>12.2</td>\n",
       "      <td>5.8</td>\n",
       "      <td>4</td>\n",
       "      <td>ideal</td>\n",
       "      <td>healthy</td>\n",
       "    </tr>\n",
       "    <tr>\n",
       "      <th>2</th>\n",
       "      <td>38.6</td>\n",
       "      <td>Cross Breed</td>\n",
       "      <td>14.7</td>\n",
       "      <td>42</td>\n",
       "      <td>13121</td>\n",
       "      <td>3.2</td>\n",
       "      <td>3</td>\n",
       "      <td>71</td>\n",
       "      <td>3.0</td>\n",
       "      <td>12.6</td>\n",
       "      <td>5.9</td>\n",
       "      <td>2</td>\n",
       "      <td>ideal</td>\n",
       "      <td>healthy</td>\n",
       "    </tr>\n",
       "    <tr>\n",
       "      <th>3</th>\n",
       "      <td>39.5</td>\n",
       "      <td>Normal Breed</td>\n",
       "      <td>26.2</td>\n",
       "      <td>29</td>\n",
       "      <td>12055</td>\n",
       "      <td>3.8</td>\n",
       "      <td>4</td>\n",
       "      <td>68</td>\n",
       "      <td>3.6</td>\n",
       "      <td>13.5</td>\n",
       "      <td>6.0</td>\n",
       "      <td>2</td>\n",
       "      <td>Black faece</td>\n",
       "      <td>unhealthy</td>\n",
       "    </tr>\n",
       "    <tr>\n",
       "      <th>4</th>\n",
       "      <td>39.7</td>\n",
       "      <td>Normal Breed</td>\n",
       "      <td>22.5</td>\n",
       "      <td>48</td>\n",
       "      <td>10352</td>\n",
       "      <td>4.6</td>\n",
       "      <td>2</td>\n",
       "      <td>63</td>\n",
       "      <td>3.1</td>\n",
       "      <td>13.5</td>\n",
       "      <td>6.3</td>\n",
       "      <td>5</td>\n",
       "      <td>ideal</td>\n",
       "      <td>healthy</td>\n",
       "    </tr>\n",
       "  </tbody>\n",
       "</table>\n",
       "</div>"
      ],
      "text/plain": [
       "   body_temperature    breed_type  milk_production  respiratory_rate  \\\n",
       "0              38.2   Cross Breed             13.6                36   \n",
       "1              38.9  Normal Breed             24.1                37   \n",
       "2              38.6   Cross Breed             14.7                42   \n",
       "3              39.5  Normal Breed             26.2                29   \n",
       "4              39.7  Normal Breed             22.5                48   \n",
       "\n",
       "   walking_capacity  sleeping_duration  body_condition_score  heart_rate  \\\n",
       "0             12432                3.5                     3          50   \n",
       "1             11987                4.2                     2          62   \n",
       "2             13121                3.2                     3          71   \n",
       "3             12055                3.8                     4          68   \n",
       "4             10352                4.6                     2          63   \n",
       "\n",
       "   eating_duration  lying_down_duration  ruminating  rumen_fill  \\\n",
       "0              3.2                 15.0         6.0           3   \n",
       "1              3.9                 12.2         5.8           4   \n",
       "2              3.0                 12.6         5.9           2   \n",
       "3              3.6                 13.5         6.0           2   \n",
       "4              3.1                 13.5         6.3           5   \n",
       "\n",
       "  faecal_consistency health_status  \n",
       "0     extremely firm     unhealthy  \n",
       "1              ideal       healthy  \n",
       "2              ideal       healthy  \n",
       "3        Black faece     unhealthy  \n",
       "4              ideal       healthy  "
      ]
     },
     "execution_count": 147,
     "metadata": {},
     "output_type": "execute_result"
    }
   ],
   "source": [
    "df=pd.read_excel('cattle_dataset.xlsx')\n",
    "df.head()"
   ]
  },
  {
   "cell_type": "code",
   "execution_count": 148,
   "id": "5acd2bb8",
   "metadata": {},
   "outputs": [
    {
     "data": {
      "text/plain": [
       "body_temperature        float64\n",
       "breed_type               object\n",
       "milk_production         float64\n",
       "respiratory_rate          int64\n",
       "walking_capacity          int64\n",
       "sleeping_duration       float64\n",
       "body_condition_score      int64\n",
       "heart_rate                int64\n",
       "eating_duration         float64\n",
       "lying_down_duration     float64\n",
       "ruminating              float64\n",
       "rumen_fill                int64\n",
       "faecal_consistency       object\n",
       "health_status            object\n",
       "dtype: object"
      ]
     },
     "execution_count": 148,
     "metadata": {},
     "output_type": "execute_result"
    }
   ],
   "source": [
    "df.dtypes"
   ]
  },
  {
   "cell_type": "markdown",
   "id": "215081f3",
   "metadata": {},
   "source": [
    "Here in df.dtypes we can see there are 3 object value. our model will not be able to train or test the object values, that's why we have to label these 3 values with Label Encoding."
   ]
  },
  {
   "cell_type": "markdown",
   "id": "e50ce9d4",
   "metadata": {},
   "source": [
    "# Label Encoding"
   ]
  },
  {
   "cell_type": "code",
   "execution_count": 149,
   "id": "7ff576a0",
   "metadata": {},
   "outputs": [
    {
     "data": {
      "text/plain": [
       "Cross Breed     90\n",
       "Normal Breed    88\n",
       "Name: breed_type, dtype: int64"
      ]
     },
     "execution_count": 149,
     "metadata": {},
     "output_type": "execute_result"
    }
   ],
   "source": [
    "df[\"breed_type\"].value_counts()"
   ]
  },
  {
   "cell_type": "markdown",
   "id": "712c3826",
   "metadata": {},
   "source": [
    "Doing Label Encoding for \"breed_type\"."
   ]
  },
  {
   "cell_type": "code",
   "execution_count": 150,
   "id": "d7df88d6",
   "metadata": {},
   "outputs": [
    {
     "data": {
      "text/html": [
       "<div>\n",
       "<style scoped>\n",
       "    .dataframe tbody tr th:only-of-type {\n",
       "        vertical-align: middle;\n",
       "    }\n",
       "\n",
       "    .dataframe tbody tr th {\n",
       "        vertical-align: top;\n",
       "    }\n",
       "\n",
       "    .dataframe thead th {\n",
       "        text-align: right;\n",
       "    }\n",
       "</style>\n",
       "<table border=\"1\" class=\"dataframe\">\n",
       "  <thead>\n",
       "    <tr style=\"text-align: right;\">\n",
       "      <th></th>\n",
       "      <th>body_temperature</th>\n",
       "      <th>breed_type</th>\n",
       "      <th>milk_production</th>\n",
       "      <th>respiratory_rate</th>\n",
       "      <th>walking_capacity</th>\n",
       "      <th>sleeping_duration</th>\n",
       "      <th>body_condition_score</th>\n",
       "      <th>heart_rate</th>\n",
       "      <th>eating_duration</th>\n",
       "      <th>lying_down_duration</th>\n",
       "      <th>ruminating</th>\n",
       "      <th>rumen_fill</th>\n",
       "      <th>faecal_consistency</th>\n",
       "      <th>health_status</th>\n",
       "      <th>BreedType_binary</th>\n",
       "    </tr>\n",
       "  </thead>\n",
       "  <tbody>\n",
       "    <tr>\n",
       "      <th>0</th>\n",
       "      <td>38.2</td>\n",
       "      <td>Cross Breed</td>\n",
       "      <td>13.6</td>\n",
       "      <td>36</td>\n",
       "      <td>12432</td>\n",
       "      <td>3.5</td>\n",
       "      <td>3</td>\n",
       "      <td>50</td>\n",
       "      <td>3.2</td>\n",
       "      <td>15.0</td>\n",
       "      <td>6.0</td>\n",
       "      <td>3</td>\n",
       "      <td>extremely firm</td>\n",
       "      <td>unhealthy</td>\n",
       "      <td>0</td>\n",
       "    </tr>\n",
       "    <tr>\n",
       "      <th>1</th>\n",
       "      <td>38.9</td>\n",
       "      <td>Normal Breed</td>\n",
       "      <td>24.1</td>\n",
       "      <td>37</td>\n",
       "      <td>11987</td>\n",
       "      <td>4.2</td>\n",
       "      <td>2</td>\n",
       "      <td>62</td>\n",
       "      <td>3.9</td>\n",
       "      <td>12.2</td>\n",
       "      <td>5.8</td>\n",
       "      <td>4</td>\n",
       "      <td>ideal</td>\n",
       "      <td>healthy</td>\n",
       "      <td>1</td>\n",
       "    </tr>\n",
       "    <tr>\n",
       "      <th>2</th>\n",
       "      <td>38.6</td>\n",
       "      <td>Cross Breed</td>\n",
       "      <td>14.7</td>\n",
       "      <td>42</td>\n",
       "      <td>13121</td>\n",
       "      <td>3.2</td>\n",
       "      <td>3</td>\n",
       "      <td>71</td>\n",
       "      <td>3.0</td>\n",
       "      <td>12.6</td>\n",
       "      <td>5.9</td>\n",
       "      <td>2</td>\n",
       "      <td>ideal</td>\n",
       "      <td>healthy</td>\n",
       "      <td>0</td>\n",
       "    </tr>\n",
       "    <tr>\n",
       "      <th>3</th>\n",
       "      <td>39.5</td>\n",
       "      <td>Normal Breed</td>\n",
       "      <td>26.2</td>\n",
       "      <td>29</td>\n",
       "      <td>12055</td>\n",
       "      <td>3.8</td>\n",
       "      <td>4</td>\n",
       "      <td>68</td>\n",
       "      <td>3.6</td>\n",
       "      <td>13.5</td>\n",
       "      <td>6.0</td>\n",
       "      <td>2</td>\n",
       "      <td>Black faece</td>\n",
       "      <td>unhealthy</td>\n",
       "      <td>1</td>\n",
       "    </tr>\n",
       "    <tr>\n",
       "      <th>4</th>\n",
       "      <td>39.7</td>\n",
       "      <td>Normal Breed</td>\n",
       "      <td>22.5</td>\n",
       "      <td>48</td>\n",
       "      <td>10352</td>\n",
       "      <td>4.6</td>\n",
       "      <td>2</td>\n",
       "      <td>63</td>\n",
       "      <td>3.1</td>\n",
       "      <td>13.5</td>\n",
       "      <td>6.3</td>\n",
       "      <td>5</td>\n",
       "      <td>ideal</td>\n",
       "      <td>healthy</td>\n",
       "      <td>1</td>\n",
       "    </tr>\n",
       "  </tbody>\n",
       "</table>\n",
       "</div>"
      ],
      "text/plain": [
       "   body_temperature    breed_type  milk_production  respiratory_rate  \\\n",
       "0              38.2   Cross Breed             13.6                36   \n",
       "1              38.9  Normal Breed             24.1                37   \n",
       "2              38.6   Cross Breed             14.7                42   \n",
       "3              39.5  Normal Breed             26.2                29   \n",
       "4              39.7  Normal Breed             22.5                48   \n",
       "\n",
       "   walking_capacity  sleeping_duration  body_condition_score  heart_rate  \\\n",
       "0             12432                3.5                     3          50   \n",
       "1             11987                4.2                     2          62   \n",
       "2             13121                3.2                     3          71   \n",
       "3             12055                3.8                     4          68   \n",
       "4             10352                4.6                     2          63   \n",
       "\n",
       "   eating_duration  lying_down_duration  ruminating  rumen_fill  \\\n",
       "0              3.2                 15.0         6.0           3   \n",
       "1              3.9                 12.2         5.8           4   \n",
       "2              3.0                 12.6         5.9           2   \n",
       "3              3.6                 13.5         6.0           2   \n",
       "4              3.1                 13.5         6.3           5   \n",
       "\n",
       "  faecal_consistency health_status  BreedType_binary  \n",
       "0     extremely firm     unhealthy                 0  \n",
       "1              ideal       healthy                 1  \n",
       "2              ideal       healthy                 0  \n",
       "3        Black faece     unhealthy                 1  \n",
       "4              ideal       healthy                 1  "
      ]
     },
     "execution_count": 150,
     "metadata": {},
     "output_type": "execute_result"
    }
   ],
   "source": [
    "from sklearn.preprocessing import LabelEncoder\n",
    "label_encoder=LabelEncoder()\n",
    "label1 = label_encoder.fit_transform(df.breed_type)\n",
    "df['BreedType_binary'] = label1\n",
    "df.head()"
   ]
  },
  {
   "cell_type": "code",
   "execution_count": 151,
   "id": "45f13288",
   "metadata": {},
   "outputs": [
    {
     "data": {
      "text/plain": [
       "0    90\n",
       "1    88\n",
       "Name: BreedType_binary, dtype: int64"
      ]
     },
     "execution_count": 151,
     "metadata": {},
     "output_type": "execute_result"
    }
   ],
   "source": [
    "df[\"BreedType_binary\"].value_counts()"
   ]
  },
  {
   "cell_type": "code",
   "execution_count": 152,
   "id": "cc26f6f9",
   "metadata": {},
   "outputs": [
    {
     "data": {
      "text/html": [
       "<div>\n",
       "<style scoped>\n",
       "    .dataframe tbody tr th:only-of-type {\n",
       "        vertical-align: middle;\n",
       "    }\n",
       "\n",
       "    .dataframe tbody tr th {\n",
       "        vertical-align: top;\n",
       "    }\n",
       "\n",
       "    .dataframe thead th {\n",
       "        text-align: right;\n",
       "    }\n",
       "</style>\n",
       "<table border=\"1\" class=\"dataframe\">\n",
       "  <thead>\n",
       "    <tr style=\"text-align: right;\">\n",
       "      <th></th>\n",
       "      <th>body_temperature</th>\n",
       "      <th>milk_production</th>\n",
       "      <th>respiratory_rate</th>\n",
       "      <th>walking_capacity</th>\n",
       "      <th>sleeping_duration</th>\n",
       "      <th>body_condition_score</th>\n",
       "      <th>heart_rate</th>\n",
       "      <th>eating_duration</th>\n",
       "      <th>lying_down_duration</th>\n",
       "      <th>ruminating</th>\n",
       "      <th>rumen_fill</th>\n",
       "      <th>faecal_consistency</th>\n",
       "      <th>health_status</th>\n",
       "      <th>BreedType_binary</th>\n",
       "    </tr>\n",
       "  </thead>\n",
       "  <tbody>\n",
       "    <tr>\n",
       "      <th>0</th>\n",
       "      <td>38.2</td>\n",
       "      <td>13.6</td>\n",
       "      <td>36</td>\n",
       "      <td>12432</td>\n",
       "      <td>3.5</td>\n",
       "      <td>3</td>\n",
       "      <td>50</td>\n",
       "      <td>3.2</td>\n",
       "      <td>15.0</td>\n",
       "      <td>6.0</td>\n",
       "      <td>3</td>\n",
       "      <td>extremely firm</td>\n",
       "      <td>unhealthy</td>\n",
       "      <td>0</td>\n",
       "    </tr>\n",
       "    <tr>\n",
       "      <th>1</th>\n",
       "      <td>38.9</td>\n",
       "      <td>24.1</td>\n",
       "      <td>37</td>\n",
       "      <td>11987</td>\n",
       "      <td>4.2</td>\n",
       "      <td>2</td>\n",
       "      <td>62</td>\n",
       "      <td>3.9</td>\n",
       "      <td>12.2</td>\n",
       "      <td>5.8</td>\n",
       "      <td>4</td>\n",
       "      <td>ideal</td>\n",
       "      <td>healthy</td>\n",
       "      <td>1</td>\n",
       "    </tr>\n",
       "    <tr>\n",
       "      <th>2</th>\n",
       "      <td>38.6</td>\n",
       "      <td>14.7</td>\n",
       "      <td>42</td>\n",
       "      <td>13121</td>\n",
       "      <td>3.2</td>\n",
       "      <td>3</td>\n",
       "      <td>71</td>\n",
       "      <td>3.0</td>\n",
       "      <td>12.6</td>\n",
       "      <td>5.9</td>\n",
       "      <td>2</td>\n",
       "      <td>ideal</td>\n",
       "      <td>healthy</td>\n",
       "      <td>0</td>\n",
       "    </tr>\n",
       "    <tr>\n",
       "      <th>3</th>\n",
       "      <td>39.5</td>\n",
       "      <td>26.2</td>\n",
       "      <td>29</td>\n",
       "      <td>12055</td>\n",
       "      <td>3.8</td>\n",
       "      <td>4</td>\n",
       "      <td>68</td>\n",
       "      <td>3.6</td>\n",
       "      <td>13.5</td>\n",
       "      <td>6.0</td>\n",
       "      <td>2</td>\n",
       "      <td>Black faece</td>\n",
       "      <td>unhealthy</td>\n",
       "      <td>1</td>\n",
       "    </tr>\n",
       "    <tr>\n",
       "      <th>4</th>\n",
       "      <td>39.7</td>\n",
       "      <td>22.5</td>\n",
       "      <td>48</td>\n",
       "      <td>10352</td>\n",
       "      <td>4.6</td>\n",
       "      <td>2</td>\n",
       "      <td>63</td>\n",
       "      <td>3.1</td>\n",
       "      <td>13.5</td>\n",
       "      <td>6.3</td>\n",
       "      <td>5</td>\n",
       "      <td>ideal</td>\n",
       "      <td>healthy</td>\n",
       "      <td>1</td>\n",
       "    </tr>\n",
       "  </tbody>\n",
       "</table>\n",
       "</div>"
      ],
      "text/plain": [
       "   body_temperature  milk_production  respiratory_rate  walking_capacity  \\\n",
       "0              38.2             13.6                36             12432   \n",
       "1              38.9             24.1                37             11987   \n",
       "2              38.6             14.7                42             13121   \n",
       "3              39.5             26.2                29             12055   \n",
       "4              39.7             22.5                48             10352   \n",
       "\n",
       "   sleeping_duration  body_condition_score  heart_rate  eating_duration  \\\n",
       "0                3.5                     3          50              3.2   \n",
       "1                4.2                     2          62              3.9   \n",
       "2                3.2                     3          71              3.0   \n",
       "3                3.8                     4          68              3.6   \n",
       "4                4.6                     2          63              3.1   \n",
       "\n",
       "   lying_down_duration  ruminating  rumen_fill faecal_consistency  \\\n",
       "0                 15.0         6.0           3     extremely firm   \n",
       "1                 12.2         5.8           4              ideal   \n",
       "2                 12.6         5.9           2              ideal   \n",
       "3                 13.5         6.0           2        Black faece   \n",
       "4                 13.5         6.3           5              ideal   \n",
       "\n",
       "  health_status  BreedType_binary  \n",
       "0     unhealthy                 0  \n",
       "1       healthy                 1  \n",
       "2       healthy                 0  \n",
       "3     unhealthy                 1  \n",
       "4       healthy                 1  "
      ]
     },
     "execution_count": 152,
     "metadata": {},
     "output_type": "execute_result"
    }
   ],
   "source": [
    "df1 = df.drop('breed_type',axis =1)\n",
    "df1.head()"
   ]
  },
  {
   "cell_type": "markdown",
   "id": "259514bc",
   "metadata": {},
   "source": [
    "Doing Label Encoding for \"faecal_consistency\"."
   ]
  },
  {
   "cell_type": "code",
   "execution_count": 153,
   "id": "056f0637",
   "metadata": {},
   "outputs": [
    {
     "data": {
      "text/plain": [
       "ideal                    90\n",
       "extremely firm           24\n",
       "Black faeces             22\n",
       "Fresh blood in faeces    20\n",
       "very liquid faeces       20\n",
       "Black faece               2\n",
       "Name: faecal_consistency, dtype: int64"
      ]
     },
     "execution_count": 153,
     "metadata": {},
     "output_type": "execute_result"
    }
   ],
   "source": [
    "df1[\"faecal_consistency\"].value_counts()"
   ]
  },
  {
   "cell_type": "code",
   "execution_count": 154,
   "id": "ada3af21",
   "metadata": {},
   "outputs": [
    {
     "data": {
      "text/html": [
       "<div>\n",
       "<style scoped>\n",
       "    .dataframe tbody tr th:only-of-type {\n",
       "        vertical-align: middle;\n",
       "    }\n",
       "\n",
       "    .dataframe tbody tr th {\n",
       "        vertical-align: top;\n",
       "    }\n",
       "\n",
       "    .dataframe thead th {\n",
       "        text-align: right;\n",
       "    }\n",
       "</style>\n",
       "<table border=\"1\" class=\"dataframe\">\n",
       "  <thead>\n",
       "    <tr style=\"text-align: right;\">\n",
       "      <th></th>\n",
       "      <th>body_temperature</th>\n",
       "      <th>milk_production</th>\n",
       "      <th>respiratory_rate</th>\n",
       "      <th>walking_capacity</th>\n",
       "      <th>sleeping_duration</th>\n",
       "      <th>body_condition_score</th>\n",
       "      <th>heart_rate</th>\n",
       "      <th>eating_duration</th>\n",
       "      <th>lying_down_duration</th>\n",
       "      <th>ruminating</th>\n",
       "      <th>rumen_fill</th>\n",
       "      <th>faecal_consistency</th>\n",
       "      <th>health_status</th>\n",
       "      <th>BreedType_binary</th>\n",
       "      <th>FaecalConsistency_binary</th>\n",
       "    </tr>\n",
       "  </thead>\n",
       "  <tbody>\n",
       "    <tr>\n",
       "      <th>0</th>\n",
       "      <td>38.2</td>\n",
       "      <td>13.6</td>\n",
       "      <td>36</td>\n",
       "      <td>12432</td>\n",
       "      <td>3.5</td>\n",
       "      <td>3</td>\n",
       "      <td>50</td>\n",
       "      <td>3.2</td>\n",
       "      <td>15.0</td>\n",
       "      <td>6.0</td>\n",
       "      <td>3</td>\n",
       "      <td>extremely firm</td>\n",
       "      <td>unhealthy</td>\n",
       "      <td>0</td>\n",
       "      <td>3</td>\n",
       "    </tr>\n",
       "    <tr>\n",
       "      <th>1</th>\n",
       "      <td>38.9</td>\n",
       "      <td>24.1</td>\n",
       "      <td>37</td>\n",
       "      <td>11987</td>\n",
       "      <td>4.2</td>\n",
       "      <td>2</td>\n",
       "      <td>62</td>\n",
       "      <td>3.9</td>\n",
       "      <td>12.2</td>\n",
       "      <td>5.8</td>\n",
       "      <td>4</td>\n",
       "      <td>ideal</td>\n",
       "      <td>healthy</td>\n",
       "      <td>1</td>\n",
       "      <td>4</td>\n",
       "    </tr>\n",
       "    <tr>\n",
       "      <th>2</th>\n",
       "      <td>38.6</td>\n",
       "      <td>14.7</td>\n",
       "      <td>42</td>\n",
       "      <td>13121</td>\n",
       "      <td>3.2</td>\n",
       "      <td>3</td>\n",
       "      <td>71</td>\n",
       "      <td>3.0</td>\n",
       "      <td>12.6</td>\n",
       "      <td>5.9</td>\n",
       "      <td>2</td>\n",
       "      <td>ideal</td>\n",
       "      <td>healthy</td>\n",
       "      <td>0</td>\n",
       "      <td>4</td>\n",
       "    </tr>\n",
       "    <tr>\n",
       "      <th>3</th>\n",
       "      <td>39.5</td>\n",
       "      <td>26.2</td>\n",
       "      <td>29</td>\n",
       "      <td>12055</td>\n",
       "      <td>3.8</td>\n",
       "      <td>4</td>\n",
       "      <td>68</td>\n",
       "      <td>3.6</td>\n",
       "      <td>13.5</td>\n",
       "      <td>6.0</td>\n",
       "      <td>2</td>\n",
       "      <td>Black faece</td>\n",
       "      <td>unhealthy</td>\n",
       "      <td>1</td>\n",
       "      <td>0</td>\n",
       "    </tr>\n",
       "    <tr>\n",
       "      <th>4</th>\n",
       "      <td>39.7</td>\n",
       "      <td>22.5</td>\n",
       "      <td>48</td>\n",
       "      <td>10352</td>\n",
       "      <td>4.6</td>\n",
       "      <td>2</td>\n",
       "      <td>63</td>\n",
       "      <td>3.1</td>\n",
       "      <td>13.5</td>\n",
       "      <td>6.3</td>\n",
       "      <td>5</td>\n",
       "      <td>ideal</td>\n",
       "      <td>healthy</td>\n",
       "      <td>1</td>\n",
       "      <td>4</td>\n",
       "    </tr>\n",
       "  </tbody>\n",
       "</table>\n",
       "</div>"
      ],
      "text/plain": [
       "   body_temperature  milk_production  respiratory_rate  walking_capacity  \\\n",
       "0              38.2             13.6                36             12432   \n",
       "1              38.9             24.1                37             11987   \n",
       "2              38.6             14.7                42             13121   \n",
       "3              39.5             26.2                29             12055   \n",
       "4              39.7             22.5                48             10352   \n",
       "\n",
       "   sleeping_duration  body_condition_score  heart_rate  eating_duration  \\\n",
       "0                3.5                     3          50              3.2   \n",
       "1                4.2                     2          62              3.9   \n",
       "2                3.2                     3          71              3.0   \n",
       "3                3.8                     4          68              3.6   \n",
       "4                4.6                     2          63              3.1   \n",
       "\n",
       "   lying_down_duration  ruminating  rumen_fill faecal_consistency  \\\n",
       "0                 15.0         6.0           3     extremely firm   \n",
       "1                 12.2         5.8           4              ideal   \n",
       "2                 12.6         5.9           2              ideal   \n",
       "3                 13.5         6.0           2        Black faece   \n",
       "4                 13.5         6.3           5              ideal   \n",
       "\n",
       "  health_status  BreedType_binary  FaecalConsistency_binary  \n",
       "0     unhealthy                 0                         3  \n",
       "1       healthy                 1                         4  \n",
       "2       healthy                 0                         4  \n",
       "3     unhealthy                 1                         0  \n",
       "4       healthy                 1                         4  "
      ]
     },
     "execution_count": 154,
     "metadata": {},
     "output_type": "execute_result"
    }
   ],
   "source": [
    "label_encoder1=LabelEncoder()\n",
    "label2 = label_encoder1.fit_transform(df.faecal_consistency)\n",
    "df1['FaecalConsistency_binary'] = label2\n",
    "df1.head()"
   ]
  },
  {
   "cell_type": "code",
   "execution_count": 155,
   "id": "d6ea71ac",
   "metadata": {},
   "outputs": [
    {
     "data": {
      "text/html": [
       "<div>\n",
       "<style scoped>\n",
       "    .dataframe tbody tr th:only-of-type {\n",
       "        vertical-align: middle;\n",
       "    }\n",
       "\n",
       "    .dataframe tbody tr th {\n",
       "        vertical-align: top;\n",
       "    }\n",
       "\n",
       "    .dataframe thead th {\n",
       "        text-align: right;\n",
       "    }\n",
       "</style>\n",
       "<table border=\"1\" class=\"dataframe\">\n",
       "  <thead>\n",
       "    <tr style=\"text-align: right;\">\n",
       "      <th></th>\n",
       "      <th>body_temperature</th>\n",
       "      <th>milk_production</th>\n",
       "      <th>respiratory_rate</th>\n",
       "      <th>walking_capacity</th>\n",
       "      <th>sleeping_duration</th>\n",
       "      <th>body_condition_score</th>\n",
       "      <th>heart_rate</th>\n",
       "      <th>eating_duration</th>\n",
       "      <th>lying_down_duration</th>\n",
       "      <th>ruminating</th>\n",
       "      <th>rumen_fill</th>\n",
       "      <th>health_status</th>\n",
       "      <th>BreedType_binary</th>\n",
       "      <th>FaecalConsistency_binary</th>\n",
       "    </tr>\n",
       "  </thead>\n",
       "  <tbody>\n",
       "    <tr>\n",
       "      <th>0</th>\n",
       "      <td>38.2</td>\n",
       "      <td>13.6</td>\n",
       "      <td>36</td>\n",
       "      <td>12432</td>\n",
       "      <td>3.5</td>\n",
       "      <td>3</td>\n",
       "      <td>50</td>\n",
       "      <td>3.2</td>\n",
       "      <td>15.0</td>\n",
       "      <td>6.0</td>\n",
       "      <td>3</td>\n",
       "      <td>unhealthy</td>\n",
       "      <td>0</td>\n",
       "      <td>3</td>\n",
       "    </tr>\n",
       "    <tr>\n",
       "      <th>1</th>\n",
       "      <td>38.9</td>\n",
       "      <td>24.1</td>\n",
       "      <td>37</td>\n",
       "      <td>11987</td>\n",
       "      <td>4.2</td>\n",
       "      <td>2</td>\n",
       "      <td>62</td>\n",
       "      <td>3.9</td>\n",
       "      <td>12.2</td>\n",
       "      <td>5.8</td>\n",
       "      <td>4</td>\n",
       "      <td>healthy</td>\n",
       "      <td>1</td>\n",
       "      <td>4</td>\n",
       "    </tr>\n",
       "    <tr>\n",
       "      <th>2</th>\n",
       "      <td>38.6</td>\n",
       "      <td>14.7</td>\n",
       "      <td>42</td>\n",
       "      <td>13121</td>\n",
       "      <td>3.2</td>\n",
       "      <td>3</td>\n",
       "      <td>71</td>\n",
       "      <td>3.0</td>\n",
       "      <td>12.6</td>\n",
       "      <td>5.9</td>\n",
       "      <td>2</td>\n",
       "      <td>healthy</td>\n",
       "      <td>0</td>\n",
       "      <td>4</td>\n",
       "    </tr>\n",
       "    <tr>\n",
       "      <th>3</th>\n",
       "      <td>39.5</td>\n",
       "      <td>26.2</td>\n",
       "      <td>29</td>\n",
       "      <td>12055</td>\n",
       "      <td>3.8</td>\n",
       "      <td>4</td>\n",
       "      <td>68</td>\n",
       "      <td>3.6</td>\n",
       "      <td>13.5</td>\n",
       "      <td>6.0</td>\n",
       "      <td>2</td>\n",
       "      <td>unhealthy</td>\n",
       "      <td>1</td>\n",
       "      <td>0</td>\n",
       "    </tr>\n",
       "    <tr>\n",
       "      <th>4</th>\n",
       "      <td>39.7</td>\n",
       "      <td>22.5</td>\n",
       "      <td>48</td>\n",
       "      <td>10352</td>\n",
       "      <td>4.6</td>\n",
       "      <td>2</td>\n",
       "      <td>63</td>\n",
       "      <td>3.1</td>\n",
       "      <td>13.5</td>\n",
       "      <td>6.3</td>\n",
       "      <td>5</td>\n",
       "      <td>healthy</td>\n",
       "      <td>1</td>\n",
       "      <td>4</td>\n",
       "    </tr>\n",
       "  </tbody>\n",
       "</table>\n",
       "</div>"
      ],
      "text/plain": [
       "   body_temperature  milk_production  respiratory_rate  walking_capacity  \\\n",
       "0              38.2             13.6                36             12432   \n",
       "1              38.9             24.1                37             11987   \n",
       "2              38.6             14.7                42             13121   \n",
       "3              39.5             26.2                29             12055   \n",
       "4              39.7             22.5                48             10352   \n",
       "\n",
       "   sleeping_duration  body_condition_score  heart_rate  eating_duration  \\\n",
       "0                3.5                     3          50              3.2   \n",
       "1                4.2                     2          62              3.9   \n",
       "2                3.2                     3          71              3.0   \n",
       "3                3.8                     4          68              3.6   \n",
       "4                4.6                     2          63              3.1   \n",
       "\n",
       "   lying_down_duration  ruminating  rumen_fill health_status  \\\n",
       "0                 15.0         6.0           3     unhealthy   \n",
       "1                 12.2         5.8           4       healthy   \n",
       "2                 12.6         5.9           2       healthy   \n",
       "3                 13.5         6.0           2     unhealthy   \n",
       "4                 13.5         6.3           5       healthy   \n",
       "\n",
       "   BreedType_binary  FaecalConsistency_binary  \n",
       "0                 0                         3  \n",
       "1                 1                         4  \n",
       "2                 0                         4  \n",
       "3                 1                         0  \n",
       "4                 1                         4  "
      ]
     },
     "execution_count": 155,
     "metadata": {},
     "output_type": "execute_result"
    }
   ],
   "source": [
    "df2 = df1.drop('faecal_consistency',axis =1)\n",
    "df2.head()"
   ]
  },
  {
   "cell_type": "code",
   "execution_count": 156,
   "id": "b556ac5a",
   "metadata": {},
   "outputs": [
    {
     "data": {
      "text/plain": [
       "4    90\n",
       "3    24\n",
       "1    22\n",
       "2    20\n",
       "5    20\n",
       "0     2\n",
       "Name: FaecalConsistency_binary, dtype: int64"
      ]
     },
     "execution_count": 156,
     "metadata": {},
     "output_type": "execute_result"
    }
   ],
   "source": [
    "df2['FaecalConsistency_binary'].value_counts()"
   ]
  },
  {
   "cell_type": "markdown",
   "id": "79663d0a",
   "metadata": {},
   "source": [
    "Doing Label Encoding for \"health_status\" (Target)."
   ]
  },
  {
   "cell_type": "code",
   "execution_count": 157,
   "id": "950fe65e",
   "metadata": {},
   "outputs": [
    {
     "data": {
      "text/plain": [
       "healthy      90\n",
       "unhealthy    88\n",
       "Name: health_status, dtype: int64"
      ]
     },
     "execution_count": 157,
     "metadata": {},
     "output_type": "execute_result"
    }
   ],
   "source": [
    "df2['health_status'].value_counts()"
   ]
  },
  {
   "cell_type": "code",
   "execution_count": 158,
   "id": "8f71f9a9",
   "metadata": {},
   "outputs": [
    {
     "data": {
      "text/html": [
       "<div>\n",
       "<style scoped>\n",
       "    .dataframe tbody tr th:only-of-type {\n",
       "        vertical-align: middle;\n",
       "    }\n",
       "\n",
       "    .dataframe tbody tr th {\n",
       "        vertical-align: top;\n",
       "    }\n",
       "\n",
       "    .dataframe thead th {\n",
       "        text-align: right;\n",
       "    }\n",
       "</style>\n",
       "<table border=\"1\" class=\"dataframe\">\n",
       "  <thead>\n",
       "    <tr style=\"text-align: right;\">\n",
       "      <th></th>\n",
       "      <th>body_temperature</th>\n",
       "      <th>milk_production</th>\n",
       "      <th>respiratory_rate</th>\n",
       "      <th>walking_capacity</th>\n",
       "      <th>sleeping_duration</th>\n",
       "      <th>body_condition_score</th>\n",
       "      <th>heart_rate</th>\n",
       "      <th>eating_duration</th>\n",
       "      <th>lying_down_duration</th>\n",
       "      <th>ruminating</th>\n",
       "      <th>rumen_fill</th>\n",
       "      <th>health_status</th>\n",
       "      <th>BreedType_binary</th>\n",
       "      <th>FaecalConsistency_binary</th>\n",
       "      <th>Target</th>\n",
       "    </tr>\n",
       "  </thead>\n",
       "  <tbody>\n",
       "    <tr>\n",
       "      <th>0</th>\n",
       "      <td>38.2</td>\n",
       "      <td>13.6</td>\n",
       "      <td>36</td>\n",
       "      <td>12432</td>\n",
       "      <td>3.5</td>\n",
       "      <td>3</td>\n",
       "      <td>50</td>\n",
       "      <td>3.2</td>\n",
       "      <td>15.0</td>\n",
       "      <td>6.0</td>\n",
       "      <td>3</td>\n",
       "      <td>unhealthy</td>\n",
       "      <td>0</td>\n",
       "      <td>3</td>\n",
       "      <td>1</td>\n",
       "    </tr>\n",
       "    <tr>\n",
       "      <th>1</th>\n",
       "      <td>38.9</td>\n",
       "      <td>24.1</td>\n",
       "      <td>37</td>\n",
       "      <td>11987</td>\n",
       "      <td>4.2</td>\n",
       "      <td>2</td>\n",
       "      <td>62</td>\n",
       "      <td>3.9</td>\n",
       "      <td>12.2</td>\n",
       "      <td>5.8</td>\n",
       "      <td>4</td>\n",
       "      <td>healthy</td>\n",
       "      <td>1</td>\n",
       "      <td>4</td>\n",
       "      <td>0</td>\n",
       "    </tr>\n",
       "    <tr>\n",
       "      <th>2</th>\n",
       "      <td>38.6</td>\n",
       "      <td>14.7</td>\n",
       "      <td>42</td>\n",
       "      <td>13121</td>\n",
       "      <td>3.2</td>\n",
       "      <td>3</td>\n",
       "      <td>71</td>\n",
       "      <td>3.0</td>\n",
       "      <td>12.6</td>\n",
       "      <td>5.9</td>\n",
       "      <td>2</td>\n",
       "      <td>healthy</td>\n",
       "      <td>0</td>\n",
       "      <td>4</td>\n",
       "      <td>0</td>\n",
       "    </tr>\n",
       "    <tr>\n",
       "      <th>3</th>\n",
       "      <td>39.5</td>\n",
       "      <td>26.2</td>\n",
       "      <td>29</td>\n",
       "      <td>12055</td>\n",
       "      <td>3.8</td>\n",
       "      <td>4</td>\n",
       "      <td>68</td>\n",
       "      <td>3.6</td>\n",
       "      <td>13.5</td>\n",
       "      <td>6.0</td>\n",
       "      <td>2</td>\n",
       "      <td>unhealthy</td>\n",
       "      <td>1</td>\n",
       "      <td>0</td>\n",
       "      <td>1</td>\n",
       "    </tr>\n",
       "    <tr>\n",
       "      <th>4</th>\n",
       "      <td>39.7</td>\n",
       "      <td>22.5</td>\n",
       "      <td>48</td>\n",
       "      <td>10352</td>\n",
       "      <td>4.6</td>\n",
       "      <td>2</td>\n",
       "      <td>63</td>\n",
       "      <td>3.1</td>\n",
       "      <td>13.5</td>\n",
       "      <td>6.3</td>\n",
       "      <td>5</td>\n",
       "      <td>healthy</td>\n",
       "      <td>1</td>\n",
       "      <td>4</td>\n",
       "      <td>0</td>\n",
       "    </tr>\n",
       "  </tbody>\n",
       "</table>\n",
       "</div>"
      ],
      "text/plain": [
       "   body_temperature  milk_production  respiratory_rate  walking_capacity  \\\n",
       "0              38.2             13.6                36             12432   \n",
       "1              38.9             24.1                37             11987   \n",
       "2              38.6             14.7                42             13121   \n",
       "3              39.5             26.2                29             12055   \n",
       "4              39.7             22.5                48             10352   \n",
       "\n",
       "   sleeping_duration  body_condition_score  heart_rate  eating_duration  \\\n",
       "0                3.5                     3          50              3.2   \n",
       "1                4.2                     2          62              3.9   \n",
       "2                3.2                     3          71              3.0   \n",
       "3                3.8                     4          68              3.6   \n",
       "4                4.6                     2          63              3.1   \n",
       "\n",
       "   lying_down_duration  ruminating  rumen_fill health_status  \\\n",
       "0                 15.0         6.0           3     unhealthy   \n",
       "1                 12.2         5.8           4       healthy   \n",
       "2                 12.6         5.9           2       healthy   \n",
       "3                 13.5         6.0           2     unhealthy   \n",
       "4                 13.5         6.3           5       healthy   \n",
       "\n",
       "   BreedType_binary  FaecalConsistency_binary  Target  \n",
       "0                 0                         3       1  \n",
       "1                 1                         4       0  \n",
       "2                 0                         4       0  \n",
       "3                 1                         0       1  \n",
       "4                 1                         4       0  "
      ]
     },
     "execution_count": 158,
     "metadata": {},
     "output_type": "execute_result"
    }
   ],
   "source": [
    "label_encoder2=LabelEncoder()\n",
    "label3 = label_encoder2.fit_transform(df.health_status)\n",
    "df2['Target'] = label3\n",
    "df2.head()"
   ]
  },
  {
   "cell_type": "code",
   "execution_count": 159,
   "id": "5949870e",
   "metadata": {},
   "outputs": [
    {
     "data": {
      "text/html": [
       "<div>\n",
       "<style scoped>\n",
       "    .dataframe tbody tr th:only-of-type {\n",
       "        vertical-align: middle;\n",
       "    }\n",
       "\n",
       "    .dataframe tbody tr th {\n",
       "        vertical-align: top;\n",
       "    }\n",
       "\n",
       "    .dataframe thead th {\n",
       "        text-align: right;\n",
       "    }\n",
       "</style>\n",
       "<table border=\"1\" class=\"dataframe\">\n",
       "  <thead>\n",
       "    <tr style=\"text-align: right;\">\n",
       "      <th></th>\n",
       "      <th>body_temperature</th>\n",
       "      <th>milk_production</th>\n",
       "      <th>respiratory_rate</th>\n",
       "      <th>walking_capacity</th>\n",
       "      <th>sleeping_duration</th>\n",
       "      <th>body_condition_score</th>\n",
       "      <th>heart_rate</th>\n",
       "      <th>eating_duration</th>\n",
       "      <th>lying_down_duration</th>\n",
       "      <th>ruminating</th>\n",
       "      <th>rumen_fill</th>\n",
       "      <th>BreedType_binary</th>\n",
       "      <th>FaecalConsistency_binary</th>\n",
       "      <th>Target</th>\n",
       "    </tr>\n",
       "  </thead>\n",
       "  <tbody>\n",
       "    <tr>\n",
       "      <th>0</th>\n",
       "      <td>38.2</td>\n",
       "      <td>13.6</td>\n",
       "      <td>36</td>\n",
       "      <td>12432</td>\n",
       "      <td>3.5</td>\n",
       "      <td>3</td>\n",
       "      <td>50</td>\n",
       "      <td>3.2</td>\n",
       "      <td>15.0</td>\n",
       "      <td>6.0</td>\n",
       "      <td>3</td>\n",
       "      <td>0</td>\n",
       "      <td>3</td>\n",
       "      <td>1</td>\n",
       "    </tr>\n",
       "    <tr>\n",
       "      <th>1</th>\n",
       "      <td>38.9</td>\n",
       "      <td>24.1</td>\n",
       "      <td>37</td>\n",
       "      <td>11987</td>\n",
       "      <td>4.2</td>\n",
       "      <td>2</td>\n",
       "      <td>62</td>\n",
       "      <td>3.9</td>\n",
       "      <td>12.2</td>\n",
       "      <td>5.8</td>\n",
       "      <td>4</td>\n",
       "      <td>1</td>\n",
       "      <td>4</td>\n",
       "      <td>0</td>\n",
       "    </tr>\n",
       "    <tr>\n",
       "      <th>2</th>\n",
       "      <td>38.6</td>\n",
       "      <td>14.7</td>\n",
       "      <td>42</td>\n",
       "      <td>13121</td>\n",
       "      <td>3.2</td>\n",
       "      <td>3</td>\n",
       "      <td>71</td>\n",
       "      <td>3.0</td>\n",
       "      <td>12.6</td>\n",
       "      <td>5.9</td>\n",
       "      <td>2</td>\n",
       "      <td>0</td>\n",
       "      <td>4</td>\n",
       "      <td>0</td>\n",
       "    </tr>\n",
       "    <tr>\n",
       "      <th>3</th>\n",
       "      <td>39.5</td>\n",
       "      <td>26.2</td>\n",
       "      <td>29</td>\n",
       "      <td>12055</td>\n",
       "      <td>3.8</td>\n",
       "      <td>4</td>\n",
       "      <td>68</td>\n",
       "      <td>3.6</td>\n",
       "      <td>13.5</td>\n",
       "      <td>6.0</td>\n",
       "      <td>2</td>\n",
       "      <td>1</td>\n",
       "      <td>0</td>\n",
       "      <td>1</td>\n",
       "    </tr>\n",
       "    <tr>\n",
       "      <th>4</th>\n",
       "      <td>39.7</td>\n",
       "      <td>22.5</td>\n",
       "      <td>48</td>\n",
       "      <td>10352</td>\n",
       "      <td>4.6</td>\n",
       "      <td>2</td>\n",
       "      <td>63</td>\n",
       "      <td>3.1</td>\n",
       "      <td>13.5</td>\n",
       "      <td>6.3</td>\n",
       "      <td>5</td>\n",
       "      <td>1</td>\n",
       "      <td>4</td>\n",
       "      <td>0</td>\n",
       "    </tr>\n",
       "  </tbody>\n",
       "</table>\n",
       "</div>"
      ],
      "text/plain": [
       "   body_temperature  milk_production  respiratory_rate  walking_capacity  \\\n",
       "0              38.2             13.6                36             12432   \n",
       "1              38.9             24.1                37             11987   \n",
       "2              38.6             14.7                42             13121   \n",
       "3              39.5             26.2                29             12055   \n",
       "4              39.7             22.5                48             10352   \n",
       "\n",
       "   sleeping_duration  body_condition_score  heart_rate  eating_duration  \\\n",
       "0                3.5                     3          50              3.2   \n",
       "1                4.2                     2          62              3.9   \n",
       "2                3.2                     3          71              3.0   \n",
       "3                3.8                     4          68              3.6   \n",
       "4                4.6                     2          63              3.1   \n",
       "\n",
       "   lying_down_duration  ruminating  rumen_fill  BreedType_binary  \\\n",
       "0                 15.0         6.0           3                 0   \n",
       "1                 12.2         5.8           4                 1   \n",
       "2                 12.6         5.9           2                 0   \n",
       "3                 13.5         6.0           2                 1   \n",
       "4                 13.5         6.3           5                 1   \n",
       "\n",
       "   FaecalConsistency_binary  Target  \n",
       "0                         3       1  \n",
       "1                         4       0  \n",
       "2                         4       0  \n",
       "3                         0       1  \n",
       "4                         4       0  "
      ]
     },
     "execution_count": 159,
     "metadata": {},
     "output_type": "execute_result"
    }
   ],
   "source": [
    "df3 = df2.drop('health_status',axis =1)\n",
    "df3.head()"
   ]
  },
  {
   "cell_type": "code",
   "execution_count": 160,
   "id": "68d03a59",
   "metadata": {},
   "outputs": [
    {
     "data": {
      "text/plain": [
       "0    90\n",
       "1    88\n",
       "Name: Target, dtype: int64"
      ]
     },
     "execution_count": 160,
     "metadata": {},
     "output_type": "execute_result"
    }
   ],
   "source": [
    "df3['Target'].value_counts()"
   ]
  },
  {
   "cell_type": "markdown",
   "id": "fb0a18f8",
   "metadata": {},
   "source": [
    "Those 3 object has been Labelled, Now you can see our new data types below."
   ]
  },
  {
   "cell_type": "code",
   "execution_count": 161,
   "id": "aae167c8",
   "metadata": {},
   "outputs": [
    {
     "data": {
      "text/plain": [
       "body_temperature            float64\n",
       "milk_production             float64\n",
       "respiratory_rate              int64\n",
       "walking_capacity              int64\n",
       "sleeping_duration           float64\n",
       "body_condition_score          int64\n",
       "heart_rate                    int64\n",
       "eating_duration             float64\n",
       "lying_down_duration         float64\n",
       "ruminating                  float64\n",
       "rumen_fill                    int64\n",
       "BreedType_binary              int32\n",
       "FaecalConsistency_binary      int32\n",
       "Target                        int32\n",
       "dtype: object"
      ]
     },
     "execution_count": 161,
     "metadata": {},
     "output_type": "execute_result"
    }
   ],
   "source": [
    "df3.dtypes"
   ]
  },
  {
   "cell_type": "code",
   "execution_count": 162,
   "id": "a89ff6c9",
   "metadata": {},
   "outputs": [
    {
     "data": {
      "text/html": [
       "<div>\n",
       "<style scoped>\n",
       "    .dataframe tbody tr th:only-of-type {\n",
       "        vertical-align: middle;\n",
       "    }\n",
       "\n",
       "    .dataframe tbody tr th {\n",
       "        vertical-align: top;\n",
       "    }\n",
       "\n",
       "    .dataframe thead th {\n",
       "        text-align: right;\n",
       "    }\n",
       "</style>\n",
       "<table border=\"1\" class=\"dataframe\">\n",
       "  <thead>\n",
       "    <tr style=\"text-align: right;\">\n",
       "      <th></th>\n",
       "      <th>body_temperature</th>\n",
       "      <th>milk_production</th>\n",
       "      <th>respiratory_rate</th>\n",
       "      <th>walking_capacity</th>\n",
       "      <th>sleeping_duration</th>\n",
       "      <th>body_condition_score</th>\n",
       "      <th>heart_rate</th>\n",
       "      <th>eating_duration</th>\n",
       "      <th>lying_down_duration</th>\n",
       "      <th>ruminating</th>\n",
       "      <th>rumen_fill</th>\n",
       "      <th>BreedType_binary</th>\n",
       "      <th>FaecalConsistency_binary</th>\n",
       "      <th>Target</th>\n",
       "    </tr>\n",
       "  </thead>\n",
       "  <tbody>\n",
       "    <tr>\n",
       "      <th>count</th>\n",
       "      <td>178.000000</td>\n",
       "      <td>178.000000</td>\n",
       "      <td>178.000000</td>\n",
       "      <td>178.000000</td>\n",
       "      <td>178.000000</td>\n",
       "      <td>178.000000</td>\n",
       "      <td>178.000000</td>\n",
       "      <td>178.000000</td>\n",
       "      <td>178.000000</td>\n",
       "      <td>178.000000</td>\n",
       "      <td>178.000000</td>\n",
       "      <td>178.000000</td>\n",
       "      <td>178.000000</td>\n",
       "      <td>178.000000</td>\n",
       "    </tr>\n",
       "    <tr>\n",
       "      <th>mean</th>\n",
       "      <td>39.011236</td>\n",
       "      <td>14.770787</td>\n",
       "      <td>28.685393</td>\n",
       "      <td>9303.179775</td>\n",
       "      <td>4.934831</td>\n",
       "      <td>2.910112</td>\n",
       "      <td>53.955056</td>\n",
       "      <td>2.825843</td>\n",
       "      <td>13.957303</td>\n",
       "      <td>4.888764</td>\n",
       "      <td>2.741573</td>\n",
       "      <td>0.494382</td>\n",
       "      <td>3.337079</td>\n",
       "      <td>0.494382</td>\n",
       "    </tr>\n",
       "    <tr>\n",
       "      <th>std</th>\n",
       "      <td>0.872225</td>\n",
       "      <td>6.615735</td>\n",
       "      <td>9.768617</td>\n",
       "      <td>3237.390592</td>\n",
       "      <td>1.559668</td>\n",
       "      <td>1.254510</td>\n",
       "      <td>13.157808</td>\n",
       "      <td>0.760542</td>\n",
       "      <td>1.512650</td>\n",
       "      <td>1.173477</td>\n",
       "      <td>1.047225</td>\n",
       "      <td>0.501379</td>\n",
       "      <td>1.248220</td>\n",
       "      <td>0.501379</td>\n",
       "    </tr>\n",
       "    <tr>\n",
       "      <th>min</th>\n",
       "      <td>35.500000</td>\n",
       "      <td>5.100000</td>\n",
       "      <td>14.000000</td>\n",
       "      <td>5004.000000</td>\n",
       "      <td>2.800000</td>\n",
       "      <td>1.000000</td>\n",
       "      <td>37.000000</td>\n",
       "      <td>1.300000</td>\n",
       "      <td>6.000000</td>\n",
       "      <td>3.000000</td>\n",
       "      <td>1.000000</td>\n",
       "      <td>0.000000</td>\n",
       "      <td>0.000000</td>\n",
       "      <td>0.000000</td>\n",
       "    </tr>\n",
       "    <tr>\n",
       "      <th>25%</th>\n",
       "      <td>38.300000</td>\n",
       "      <td>9.700000</td>\n",
       "      <td>21.000000</td>\n",
       "      <td>6019.000000</td>\n",
       "      <td>3.500000</td>\n",
       "      <td>2.000000</td>\n",
       "      <td>42.000000</td>\n",
       "      <td>2.200000</td>\n",
       "      <td>12.900000</td>\n",
       "      <td>3.600000</td>\n",
       "      <td>2.000000</td>\n",
       "      <td>0.000000</td>\n",
       "      <td>3.000000</td>\n",
       "      <td>0.000000</td>\n",
       "    </tr>\n",
       "    <tr>\n",
       "      <th>50%</th>\n",
       "      <td>38.900000</td>\n",
       "      <td>13.600000</td>\n",
       "      <td>28.000000</td>\n",
       "      <td>11203.000000</td>\n",
       "      <td>4.200000</td>\n",
       "      <td>3.000000</td>\n",
       "      <td>50.000000</td>\n",
       "      <td>2.900000</td>\n",
       "      <td>13.800000</td>\n",
       "      <td>5.000000</td>\n",
       "      <td>3.000000</td>\n",
       "      <td>0.000000</td>\n",
       "      <td>4.000000</td>\n",
       "      <td>0.000000</td>\n",
       "    </tr>\n",
       "    <tr>\n",
       "      <th>75%</th>\n",
       "      <td>39.700000</td>\n",
       "      <td>21.200000</td>\n",
       "      <td>36.000000</td>\n",
       "      <td>12291.000000</td>\n",
       "      <td>6.500000</td>\n",
       "      <td>4.000000</td>\n",
       "      <td>63.000000</td>\n",
       "      <td>3.400000</td>\n",
       "      <td>15.100000</td>\n",
       "      <td>5.900000</td>\n",
       "      <td>3.000000</td>\n",
       "      <td>1.000000</td>\n",
       "      <td>4.000000</td>\n",
       "      <td>1.000000</td>\n",
       "    </tr>\n",
       "    <tr>\n",
       "      <th>max</th>\n",
       "      <td>40.600000</td>\n",
       "      <td>26.500000</td>\n",
       "      <td>49.000000</td>\n",
       "      <td>13257.000000</td>\n",
       "      <td>7.200000</td>\n",
       "      <td>5.000000</td>\n",
       "      <td>83.000000</td>\n",
       "      <td>4.900000</td>\n",
       "      <td>16.400000</td>\n",
       "      <td>7.000000</td>\n",
       "      <td>5.000000</td>\n",
       "      <td>1.000000</td>\n",
       "      <td>5.000000</td>\n",
       "      <td>1.000000</td>\n",
       "    </tr>\n",
       "  </tbody>\n",
       "</table>\n",
       "</div>"
      ],
      "text/plain": [
       "       body_temperature  milk_production  respiratory_rate  walking_capacity  \\\n",
       "count        178.000000       178.000000        178.000000        178.000000   \n",
       "mean          39.011236        14.770787         28.685393       9303.179775   \n",
       "std            0.872225         6.615735          9.768617       3237.390592   \n",
       "min           35.500000         5.100000         14.000000       5004.000000   \n",
       "25%           38.300000         9.700000         21.000000       6019.000000   \n",
       "50%           38.900000        13.600000         28.000000      11203.000000   \n",
       "75%           39.700000        21.200000         36.000000      12291.000000   \n",
       "max           40.600000        26.500000         49.000000      13257.000000   \n",
       "\n",
       "       sleeping_duration  body_condition_score  heart_rate  eating_duration  \\\n",
       "count         178.000000            178.000000  178.000000       178.000000   \n",
       "mean            4.934831              2.910112   53.955056         2.825843   \n",
       "std             1.559668              1.254510   13.157808         0.760542   \n",
       "min             2.800000              1.000000   37.000000         1.300000   \n",
       "25%             3.500000              2.000000   42.000000         2.200000   \n",
       "50%             4.200000              3.000000   50.000000         2.900000   \n",
       "75%             6.500000              4.000000   63.000000         3.400000   \n",
       "max             7.200000              5.000000   83.000000         4.900000   \n",
       "\n",
       "       lying_down_duration  ruminating  rumen_fill  BreedType_binary  \\\n",
       "count           178.000000  178.000000  178.000000        178.000000   \n",
       "mean             13.957303    4.888764    2.741573          0.494382   \n",
       "std               1.512650    1.173477    1.047225          0.501379   \n",
       "min               6.000000    3.000000    1.000000          0.000000   \n",
       "25%              12.900000    3.600000    2.000000          0.000000   \n",
       "50%              13.800000    5.000000    3.000000          0.000000   \n",
       "75%              15.100000    5.900000    3.000000          1.000000   \n",
       "max              16.400000    7.000000    5.000000          1.000000   \n",
       "\n",
       "       FaecalConsistency_binary      Target  \n",
       "count                178.000000  178.000000  \n",
       "mean                   3.337079    0.494382  \n",
       "std                    1.248220    0.501379  \n",
       "min                    0.000000    0.000000  \n",
       "25%                    3.000000    0.000000  \n",
       "50%                    4.000000    0.000000  \n",
       "75%                    4.000000    1.000000  \n",
       "max                    5.000000    1.000000  "
      ]
     },
     "execution_count": 162,
     "metadata": {},
     "output_type": "execute_result"
    }
   ],
   "source": [
    "df3.describe()"
   ]
  },
  {
   "cell_type": "code",
   "execution_count": 163,
   "id": "46f4374a",
   "metadata": {},
   "outputs": [
    {
     "name": "stdout",
     "output_type": "stream",
     "text": [
      "<class 'pandas.core.frame.DataFrame'>\n",
      "RangeIndex: 178 entries, 0 to 177\n",
      "Data columns (total 14 columns):\n",
      " #   Column                    Non-Null Count  Dtype  \n",
      "---  ------                    --------------  -----  \n",
      " 0   body_temperature          178 non-null    float64\n",
      " 1   milk_production           178 non-null    float64\n",
      " 2   respiratory_rate          178 non-null    int64  \n",
      " 3   walking_capacity          178 non-null    int64  \n",
      " 4   sleeping_duration         178 non-null    float64\n",
      " 5   body_condition_score      178 non-null    int64  \n",
      " 6   heart_rate                178 non-null    int64  \n",
      " 7   eating_duration           178 non-null    float64\n",
      " 8   lying_down_duration       178 non-null    float64\n",
      " 9   ruminating                178 non-null    float64\n",
      " 10  rumen_fill                178 non-null    int64  \n",
      " 11  BreedType_binary          178 non-null    int32  \n",
      " 12  FaecalConsistency_binary  178 non-null    int32  \n",
      " 13  Target                    178 non-null    int32  \n",
      "dtypes: float64(6), int32(3), int64(5)\n",
      "memory usage: 17.5 KB\n"
     ]
    }
   ],
   "source": [
    "df3.info()"
   ]
  },
  {
   "cell_type": "code",
   "execution_count": 164,
   "id": "0fd610dd",
   "metadata": {},
   "outputs": [
    {
     "data": {
      "text/plain": [
       "(178, 14)"
      ]
     },
     "execution_count": 164,
     "metadata": {},
     "output_type": "execute_result"
    }
   ],
   "source": [
    "df3.shape"
   ]
  },
  {
   "cell_type": "code",
   "execution_count": 165,
   "id": "e1a7f590",
   "metadata": {},
   "outputs": [
    {
     "data": {
      "text/plain": [
       "Index(['body_temperature', 'milk_production', 'respiratory_rate',\n",
       "       'walking_capacity', 'sleeping_duration', 'body_condition_score',\n",
       "       'heart_rate', 'eating_duration', 'lying_down_duration', 'ruminating',\n",
       "       'rumen_fill', 'BreedType_binary', 'FaecalConsistency_binary', 'Target'],\n",
       "      dtype='object')"
      ]
     },
     "execution_count": 165,
     "metadata": {},
     "output_type": "execute_result"
    }
   ],
   "source": [
    "df3.columns"
   ]
  },
  {
   "cell_type": "code",
   "execution_count": 166,
   "id": "756c3fec",
   "metadata": {},
   "outputs": [
    {
     "data": {
      "text/plain": [
       "<bound method DataFrame.value_counts of      body_temperature  milk_production  respiratory_rate  walking_capacity  \\\n",
       "0                38.2             13.6                36             12432   \n",
       "1                38.9             24.1                37             11987   \n",
       "2                38.6             14.7                42             13121   \n",
       "3                39.5             26.2                29             12055   \n",
       "4                39.7             22.5                48             10352   \n",
       "..                ...              ...               ...               ...   \n",
       "173              39.9              6.8                28              6942   \n",
       "174              40.2              7.2                20              6652   \n",
       "175              39.8              7.7                16              6705   \n",
       "176              39.5              5.7                21              6272   \n",
       "177              39.6              5.1                20              5289   \n",
       "\n",
       "     sleeping_duration  body_condition_score  heart_rate  eating_duration  \\\n",
       "0                  3.5                     3          50              3.2   \n",
       "1                  4.2                     2          62              3.9   \n",
       "2                  3.2                     3          71              3.0   \n",
       "3                  3.8                     4          68              3.6   \n",
       "4                  4.6                     2          63              3.1   \n",
       "..                 ...                   ...         ...              ...   \n",
       "173                7.1                     4          47              1.9   \n",
       "174                6.5                     4          41              2.0   \n",
       "175                6.6                     3          37              2.6   \n",
       "176                6.8                     3          45              2.2   \n",
       "177                6.1                     1          42              1.6   \n",
       "\n",
       "     lying_down_duration  ruminating  rumen_fill  BreedType_binary  \\\n",
       "0                   15.0         6.0           3                 0   \n",
       "1                   12.2         5.8           4                 1   \n",
       "2                   12.6         5.9           2                 0   \n",
       "3                   13.5         6.0           2                 1   \n",
       "4                   13.5         6.3           5                 1   \n",
       "..                   ...         ...         ...               ...   \n",
       "173                 15.0         3.1           3                 0   \n",
       "174                 15.5         3.6           4                 0   \n",
       "175                 14.8         4.2           3                 0   \n",
       "176                 15.0         3.1           2                 0   \n",
       "177                 16.3         3.0           1                 0   \n",
       "\n",
       "     FaecalConsistency_binary  Target  \n",
       "0                           3       1  \n",
       "1                           4       0  \n",
       "2                           4       0  \n",
       "3                           0       1  \n",
       "4                           4       0  \n",
       "..                        ...     ...  \n",
       "173                         2       1  \n",
       "174                         1       1  \n",
       "175                         3       1  \n",
       "176                         5       1  \n",
       "177                         5       1  \n",
       "\n",
       "[178 rows x 14 columns]>"
      ]
     },
     "execution_count": 166,
     "metadata": {},
     "output_type": "execute_result"
    }
   ],
   "source": [
    "df3.value_counts"
   ]
  },
  {
   "cell_type": "code",
   "execution_count": 167,
   "id": "2655a60c",
   "metadata": {},
   "outputs": [
    {
     "data": {
      "text/plain": [
       "body_temperature            0\n",
       "milk_production             0\n",
       "respiratory_rate            0\n",
       "walking_capacity            0\n",
       "sleeping_duration           0\n",
       "body_condition_score        0\n",
       "heart_rate                  0\n",
       "eating_duration             0\n",
       "lying_down_duration         0\n",
       "ruminating                  0\n",
       "rumen_fill                  0\n",
       "BreedType_binary            0\n",
       "FaecalConsistency_binary    0\n",
       "Target                      0\n",
       "dtype: int64"
      ]
     },
     "execution_count": 167,
     "metadata": {},
     "output_type": "execute_result"
    }
   ],
   "source": [
    "df3.isnull().sum()"
   ]
  },
  {
   "cell_type": "code",
   "execution_count": 168,
   "id": "d95e8aa8",
   "metadata": {},
   "outputs": [
    {
     "data": {
      "text/html": [
       "<div>\n",
       "<style scoped>\n",
       "    .dataframe tbody tr th:only-of-type {\n",
       "        vertical-align: middle;\n",
       "    }\n",
       "\n",
       "    .dataframe tbody tr th {\n",
       "        vertical-align: top;\n",
       "    }\n",
       "\n",
       "    .dataframe thead th {\n",
       "        text-align: right;\n",
       "    }\n",
       "</style>\n",
       "<table border=\"1\" class=\"dataframe\">\n",
       "  <thead>\n",
       "    <tr style=\"text-align: right;\">\n",
       "      <th></th>\n",
       "      <th>body_temperature</th>\n",
       "      <th>milk_production</th>\n",
       "      <th>respiratory_rate</th>\n",
       "      <th>walking_capacity</th>\n",
       "      <th>sleeping_duration</th>\n",
       "      <th>body_condition_score</th>\n",
       "      <th>heart_rate</th>\n",
       "      <th>eating_duration</th>\n",
       "      <th>lying_down_duration</th>\n",
       "      <th>ruminating</th>\n",
       "      <th>rumen_fill</th>\n",
       "      <th>BreedType_binary</th>\n",
       "      <th>FaecalConsistency_binary</th>\n",
       "      <th>Target</th>\n",
       "    </tr>\n",
       "  </thead>\n",
       "  <tbody>\n",
       "    <tr>\n",
       "      <th>body_temperature</th>\n",
       "      <td>1.000000</td>\n",
       "      <td>-0.532016</td>\n",
       "      <td>-0.654837</td>\n",
       "      <td>-0.863091</td>\n",
       "      <td>0.846930</td>\n",
       "      <td>0.051528</td>\n",
       "      <td>-0.673595</td>\n",
       "      <td>-0.586734</td>\n",
       "      <td>0.529380</td>\n",
       "      <td>-0.714028</td>\n",
       "      <td>-0.103190</td>\n",
       "      <td>-0.033444</td>\n",
       "      <td>-0.540070</td>\n",
       "      <td>0.863141</td>\n",
       "    </tr>\n",
       "    <tr>\n",
       "      <th>milk_production</th>\n",
       "      <td>-0.532016</td>\n",
       "      <td>1.000000</td>\n",
       "      <td>0.461387</td>\n",
       "      <td>0.591656</td>\n",
       "      <td>-0.563167</td>\n",
       "      <td>0.056455</td>\n",
       "      <td>0.469623</td>\n",
       "      <td>0.487629</td>\n",
       "      <td>-0.420655</td>\n",
       "      <td>0.567665</td>\n",
       "      <td>0.197390</td>\n",
       "      <td>0.767783</td>\n",
       "      <td>0.198237</td>\n",
       "      <td>-0.565875</td>\n",
       "    </tr>\n",
       "    <tr>\n",
       "      <th>respiratory_rate</th>\n",
       "      <td>-0.654837</td>\n",
       "      <td>0.461387</td>\n",
       "      <td>1.000000</td>\n",
       "      <td>0.780026</td>\n",
       "      <td>-0.786079</td>\n",
       "      <td>-0.065019</td>\n",
       "      <td>0.754336</td>\n",
       "      <td>0.534784</td>\n",
       "      <td>-0.469898</td>\n",
       "      <td>0.664453</td>\n",
       "      <td>0.144435</td>\n",
       "      <td>0.027322</td>\n",
       "      <td>0.389614</td>\n",
       "      <td>-0.789375</td>\n",
       "    </tr>\n",
       "    <tr>\n",
       "      <th>walking_capacity</th>\n",
       "      <td>-0.863091</td>\n",
       "      <td>0.591656</td>\n",
       "      <td>0.780026</td>\n",
       "      <td>1.000000</td>\n",
       "      <td>-0.960689</td>\n",
       "      <td>0.017426</td>\n",
       "      <td>0.797378</td>\n",
       "      <td>0.740806</td>\n",
       "      <td>-0.624619</td>\n",
       "      <td>0.862644</td>\n",
       "      <td>0.188139</td>\n",
       "      <td>0.009322</td>\n",
       "      <td>0.469702</td>\n",
       "      <td>-0.934301</td>\n",
       "    </tr>\n",
       "    <tr>\n",
       "      <th>sleeping_duration</th>\n",
       "      <td>0.846930</td>\n",
       "      <td>-0.563167</td>\n",
       "      <td>-0.786079</td>\n",
       "      <td>-0.960689</td>\n",
       "      <td>1.000000</td>\n",
       "      <td>0.036837</td>\n",
       "      <td>-0.817243</td>\n",
       "      <td>-0.701481</td>\n",
       "      <td>0.602046</td>\n",
       "      <td>-0.843306</td>\n",
       "      <td>-0.111373</td>\n",
       "      <td>-0.000471</td>\n",
       "      <td>-0.470972</td>\n",
       "      <td>0.914195</td>\n",
       "    </tr>\n",
       "    <tr>\n",
       "      <th>body_condition_score</th>\n",
       "      <td>0.051528</td>\n",
       "      <td>0.056455</td>\n",
       "      <td>-0.065019</td>\n",
       "      <td>0.017426</td>\n",
       "      <td>0.036837</td>\n",
       "      <td>1.000000</td>\n",
       "      <td>-0.053640</td>\n",
       "      <td>0.505773</td>\n",
       "      <td>-0.042524</td>\n",
       "      <td>0.227273</td>\n",
       "      <td>0.584280</td>\n",
       "      <td>-0.054701</td>\n",
       "      <td>-0.045485</td>\n",
       "      <td>0.017157</td>\n",
       "    </tr>\n",
       "    <tr>\n",
       "      <th>heart_rate</th>\n",
       "      <td>-0.673595</td>\n",
       "      <td>0.469623</td>\n",
       "      <td>0.754336</td>\n",
       "      <td>0.797378</td>\n",
       "      <td>-0.817243</td>\n",
       "      <td>-0.053640</td>\n",
       "      <td>1.000000</td>\n",
       "      <td>0.567851</td>\n",
       "      <td>-0.482149</td>\n",
       "      <td>0.673379</td>\n",
       "      <td>0.054095</td>\n",
       "      <td>0.015377</td>\n",
       "      <td>0.374506</td>\n",
       "      <td>-0.784502</td>\n",
       "    </tr>\n",
       "    <tr>\n",
       "      <th>eating_duration</th>\n",
       "      <td>-0.586734</td>\n",
       "      <td>0.487629</td>\n",
       "      <td>0.534784</td>\n",
       "      <td>0.740806</td>\n",
       "      <td>-0.701481</td>\n",
       "      <td>0.505773</td>\n",
       "      <td>0.567851</td>\n",
       "      <td>1.000000</td>\n",
       "      <td>-0.535409</td>\n",
       "      <td>0.827200</td>\n",
       "      <td>0.463838</td>\n",
       "      <td>-0.033694</td>\n",
       "      <td>0.320475</td>\n",
       "      <td>-0.688571</td>\n",
       "    </tr>\n",
       "    <tr>\n",
       "      <th>lying_down_duration</th>\n",
       "      <td>0.529380</td>\n",
       "      <td>-0.420655</td>\n",
       "      <td>-0.469898</td>\n",
       "      <td>-0.624619</td>\n",
       "      <td>0.602046</td>\n",
       "      <td>-0.042524</td>\n",
       "      <td>-0.482149</td>\n",
       "      <td>-0.535409</td>\n",
       "      <td>1.000000</td>\n",
       "      <td>-0.577192</td>\n",
       "      <td>-0.118281</td>\n",
       "      <td>-0.047994</td>\n",
       "      <td>-0.299339</td>\n",
       "      <td>0.617984</td>\n",
       "    </tr>\n",
       "    <tr>\n",
       "      <th>ruminating</th>\n",
       "      <td>-0.714028</td>\n",
       "      <td>0.567665</td>\n",
       "      <td>0.664453</td>\n",
       "      <td>0.862644</td>\n",
       "      <td>-0.843306</td>\n",
       "      <td>0.227273</td>\n",
       "      <td>0.673379</td>\n",
       "      <td>0.827200</td>\n",
       "      <td>-0.577192</td>\n",
       "      <td>1.000000</td>\n",
       "      <td>0.347026</td>\n",
       "      <td>0.007574</td>\n",
       "      <td>0.411453</td>\n",
       "      <td>-0.818244</td>\n",
       "    </tr>\n",
       "    <tr>\n",
       "      <th>rumen_fill</th>\n",
       "      <td>-0.103190</td>\n",
       "      <td>0.197390</td>\n",
       "      <td>0.144435</td>\n",
       "      <td>0.188139</td>\n",
       "      <td>-0.111373</td>\n",
       "      <td>0.584280</td>\n",
       "      <td>0.054095</td>\n",
       "      <td>0.463838</td>\n",
       "      <td>-0.118281</td>\n",
       "      <td>0.347026</td>\n",
       "      <td>1.000000</td>\n",
       "      <td>-0.035061</td>\n",
       "      <td>0.006507</td>\n",
       "      <td>-0.185704</td>\n",
       "    </tr>\n",
       "    <tr>\n",
       "      <th>BreedType_binary</th>\n",
       "      <td>-0.033444</td>\n",
       "      <td>0.767783</td>\n",
       "      <td>0.027322</td>\n",
       "      <td>0.009322</td>\n",
       "      <td>-0.000471</td>\n",
       "      <td>-0.054701</td>\n",
       "      <td>0.015377</td>\n",
       "      <td>-0.033694</td>\n",
       "      <td>-0.047994</td>\n",
       "      <td>0.007574</td>\n",
       "      <td>-0.035061</td>\n",
       "      <td>1.000000</td>\n",
       "      <td>-0.069177</td>\n",
       "      <td>-0.033838</td>\n",
       "    </tr>\n",
       "    <tr>\n",
       "      <th>FaecalConsistency_binary</th>\n",
       "      <td>-0.540070</td>\n",
       "      <td>0.198237</td>\n",
       "      <td>0.389614</td>\n",
       "      <td>0.469702</td>\n",
       "      <td>-0.470972</td>\n",
       "      <td>-0.045485</td>\n",
       "      <td>0.374506</td>\n",
       "      <td>0.320475</td>\n",
       "      <td>-0.299339</td>\n",
       "      <td>0.411453</td>\n",
       "      <td>0.006507</td>\n",
       "      <td>-0.069177</td>\n",
       "      <td>1.000000</td>\n",
       "      <td>-0.538610</td>\n",
       "    </tr>\n",
       "    <tr>\n",
       "      <th>Target</th>\n",
       "      <td>0.863141</td>\n",
       "      <td>-0.565875</td>\n",
       "      <td>-0.789375</td>\n",
       "      <td>-0.934301</td>\n",
       "      <td>0.914195</td>\n",
       "      <td>0.017157</td>\n",
       "      <td>-0.784502</td>\n",
       "      <td>-0.688571</td>\n",
       "      <td>0.617984</td>\n",
       "      <td>-0.818244</td>\n",
       "      <td>-0.185704</td>\n",
       "      <td>-0.033838</td>\n",
       "      <td>-0.538610</td>\n",
       "      <td>1.000000</td>\n",
       "    </tr>\n",
       "  </tbody>\n",
       "</table>\n",
       "</div>"
      ],
      "text/plain": [
       "                          body_temperature  milk_production  respiratory_rate  \\\n",
       "body_temperature                  1.000000        -0.532016         -0.654837   \n",
       "milk_production                  -0.532016         1.000000          0.461387   \n",
       "respiratory_rate                 -0.654837         0.461387          1.000000   \n",
       "walking_capacity                 -0.863091         0.591656          0.780026   \n",
       "sleeping_duration                 0.846930        -0.563167         -0.786079   \n",
       "body_condition_score              0.051528         0.056455         -0.065019   \n",
       "heart_rate                       -0.673595         0.469623          0.754336   \n",
       "eating_duration                  -0.586734         0.487629          0.534784   \n",
       "lying_down_duration               0.529380        -0.420655         -0.469898   \n",
       "ruminating                       -0.714028         0.567665          0.664453   \n",
       "rumen_fill                       -0.103190         0.197390          0.144435   \n",
       "BreedType_binary                 -0.033444         0.767783          0.027322   \n",
       "FaecalConsistency_binary         -0.540070         0.198237          0.389614   \n",
       "Target                            0.863141        -0.565875         -0.789375   \n",
       "\n",
       "                          walking_capacity  sleeping_duration  \\\n",
       "body_temperature                 -0.863091           0.846930   \n",
       "milk_production                   0.591656          -0.563167   \n",
       "respiratory_rate                  0.780026          -0.786079   \n",
       "walking_capacity                  1.000000          -0.960689   \n",
       "sleeping_duration                -0.960689           1.000000   \n",
       "body_condition_score              0.017426           0.036837   \n",
       "heart_rate                        0.797378          -0.817243   \n",
       "eating_duration                   0.740806          -0.701481   \n",
       "lying_down_duration              -0.624619           0.602046   \n",
       "ruminating                        0.862644          -0.843306   \n",
       "rumen_fill                        0.188139          -0.111373   \n",
       "BreedType_binary                  0.009322          -0.000471   \n",
       "FaecalConsistency_binary          0.469702          -0.470972   \n",
       "Target                           -0.934301           0.914195   \n",
       "\n",
       "                          body_condition_score  heart_rate  eating_duration  \\\n",
       "body_temperature                      0.051528   -0.673595        -0.586734   \n",
       "milk_production                       0.056455    0.469623         0.487629   \n",
       "respiratory_rate                     -0.065019    0.754336         0.534784   \n",
       "walking_capacity                      0.017426    0.797378         0.740806   \n",
       "sleeping_duration                     0.036837   -0.817243        -0.701481   \n",
       "body_condition_score                  1.000000   -0.053640         0.505773   \n",
       "heart_rate                           -0.053640    1.000000         0.567851   \n",
       "eating_duration                       0.505773    0.567851         1.000000   \n",
       "lying_down_duration                  -0.042524   -0.482149        -0.535409   \n",
       "ruminating                            0.227273    0.673379         0.827200   \n",
       "rumen_fill                            0.584280    0.054095         0.463838   \n",
       "BreedType_binary                     -0.054701    0.015377        -0.033694   \n",
       "FaecalConsistency_binary             -0.045485    0.374506         0.320475   \n",
       "Target                                0.017157   -0.784502        -0.688571   \n",
       "\n",
       "                          lying_down_duration  ruminating  rumen_fill  \\\n",
       "body_temperature                     0.529380   -0.714028   -0.103190   \n",
       "milk_production                     -0.420655    0.567665    0.197390   \n",
       "respiratory_rate                    -0.469898    0.664453    0.144435   \n",
       "walking_capacity                    -0.624619    0.862644    0.188139   \n",
       "sleeping_duration                    0.602046   -0.843306   -0.111373   \n",
       "body_condition_score                -0.042524    0.227273    0.584280   \n",
       "heart_rate                          -0.482149    0.673379    0.054095   \n",
       "eating_duration                     -0.535409    0.827200    0.463838   \n",
       "lying_down_duration                  1.000000   -0.577192   -0.118281   \n",
       "ruminating                          -0.577192    1.000000    0.347026   \n",
       "rumen_fill                          -0.118281    0.347026    1.000000   \n",
       "BreedType_binary                    -0.047994    0.007574   -0.035061   \n",
       "FaecalConsistency_binary            -0.299339    0.411453    0.006507   \n",
       "Target                               0.617984   -0.818244   -0.185704   \n",
       "\n",
       "                          BreedType_binary  FaecalConsistency_binary    Target  \n",
       "body_temperature                 -0.033444                 -0.540070  0.863141  \n",
       "milk_production                   0.767783                  0.198237 -0.565875  \n",
       "respiratory_rate                  0.027322                  0.389614 -0.789375  \n",
       "walking_capacity                  0.009322                  0.469702 -0.934301  \n",
       "sleeping_duration                -0.000471                 -0.470972  0.914195  \n",
       "body_condition_score             -0.054701                 -0.045485  0.017157  \n",
       "heart_rate                        0.015377                  0.374506 -0.784502  \n",
       "eating_duration                  -0.033694                  0.320475 -0.688571  \n",
       "lying_down_duration              -0.047994                 -0.299339  0.617984  \n",
       "ruminating                        0.007574                  0.411453 -0.818244  \n",
       "rumen_fill                       -0.035061                  0.006507 -0.185704  \n",
       "BreedType_binary                  1.000000                 -0.069177 -0.033838  \n",
       "FaecalConsistency_binary         -0.069177                  1.000000 -0.538610  \n",
       "Target                           -0.033838                 -0.538610  1.000000  "
      ]
     },
     "execution_count": 168,
     "metadata": {},
     "output_type": "execute_result"
    }
   ],
   "source": [
    "df3.corr()"
   ]
  },
  {
   "cell_type": "code",
   "execution_count": 170,
   "id": "aaaf0bca",
   "metadata": {},
   "outputs": [
    {
     "data": {
      "text/plain": [
       "<AxesSubplot:>"
      ]
     },
     "execution_count": 170,
     "metadata": {},
     "output_type": "execute_result"
    },
    {
     "data": {
      "image/png": "[encoded data removed]",
      "text/plain": [
       "<Figure size 1080x720 with 2 Axes>"
      ]
     },
     "metadata": {
      "needs_background": "light"
     },
     "output_type": "display_data"
    }
   ],
   "source": [
    "# plotting heatmap using seaborn.\n",
    "\n",
    "plt.figure(figsize=(15,10))\n",
    "sns.heatmap(df.corr(),annot = True,cmap =\"Blues\")"
   ]
  },
  {
   "cell_type": "code",
   "execution_count": 172,
   "id": "7a3d4ab2",
   "metadata": {},
   "outputs": [
    {
     "data": {
      "image/png": "[encoded data removed]",
      "text/plain": [
       "<Figure size 432x288 with 1 Axes>"
      ]
     },
     "metadata": {},
     "output_type": "display_data"
    }
   ],
   "source": [
    "sns.barplot(x=\"milk_production\", y=\"heart_rate\", data=df[170:180])\n",
    "plt.title(\"milk_production vs heart_rate\",fontsize=15)\n",
    "plt.xlabel(\"milk_production\")\n",
    "plt.ylabel(\"heart_rate\")\n",
    "plt.show()\n",
    "plt.style.use(\"ggplot\")"
   ]
  },
  {
   "cell_type": "markdown",
   "id": "1e6d0108",
   "metadata": {},
   "source": [
    "# Searching for Outliers and if find any then will remove them."
   ]
  },
  {
   "cell_type": "code",
   "execution_count": 173,
   "id": "c04f7e7f",
   "metadata": {},
   "outputs": [],
   "source": [
    "# Function to creat Diagonostic plots\n",
    "\n",
    "def plotvariable (df3, variable):\n",
    "    plt.figure(figsize=(16,4))\n",
    "    \n",
    "    #histogram\n",
    "    \n",
    "    plt.subplot(1,2,1)\n",
    "    plt.hist(df3[variable], alpha=0.5)\n",
    "    \n",
    "    #boxplot\n",
    "    \n",
    "    plt.subplot(1,2,2)\n",
    "    sns.boxplot(df3[variable])\n",
    "    \n",
    "    plt.show()\n"
   ]
  },
  {
   "cell_type": "code",
   "execution_count": 174,
   "id": "a466d8f7",
   "metadata": {},
   "outputs": [
    {
     "data": {
      "image/png": "[encoded data removed]",
      "text/plain": [
       "<Figure size 1152x288 with 2 Axes>"
      ]
     },
     "metadata": {},
     "output_type": "display_data"
    }
   ],
   "source": [
    "plotvariable(df3, \"body_temperature\")"
   ]
  },
  {
   "cell_type": "code",
   "execution_count": 175,
   "id": "cba05691",
   "metadata": {},
   "outputs": [
    {
     "data": {
      "image/png": "[encoded data removed]",
      "text/plain": [
       "<Figure size 1152x288 with 2 Axes>"
      ]
     },
     "metadata": {},
     "output_type": "display_data"
    }
   ],
   "source": [
    "plotvariable(df3, \"milk_production\")"
   ]
  },
  {
   "cell_type": "code",
   "execution_count": 176,
   "id": "19997606",
   "metadata": {},
   "outputs": [
    {
     "data": {
      "image/png": "[encoded data removed]",
      "text/plain": [
       "<Figure size 1152x288 with 2 Axes>"
      ]
     },
     "metadata": {},
     "output_type": "display_data"
    }
   ],
   "source": [
    "plotvariable(df3, \"respiratory_rate\")"
   ]
  },
  {
   "cell_type": "code",
   "execution_count": 177,
   "id": "c7168dbe",
   "metadata": {},
   "outputs": [
    {
     "data": {
      "image/png": "[encoded data removed]",
      "text/plain": [
       "<Figure size 1152x288 with 2 Axes>"
      ]
     },
     "metadata": {},
     "output_type": "display_data"
    }
   ],
   "source": [
    "plotvariable(df3, \"walking_capacity\")"
   ]
  },
  {
   "cell_type": "code",
   "execution_count": 178,
   "id": "2083b89d",
   "metadata": {},
   "outputs": [
    {
     "data": {
      "image/png": "[encoded data removed]",
      "text/plain": [
       "<Figure size 1152x288 with 2 Axes>"
      ]
     },
     "metadata": {},
     "output_type": "display_data"
    }
   ],
   "source": [
    "plotvariable(df3, \"sleeping_duration\")"
   ]
  },
  {
   "cell_type": "code",
   "execution_count": 179,
   "id": "208ba5ac",
   "metadata": {},
   "outputs": [
    {
     "data": {
      "image/png": "[encoded data removed]",
      "text/plain": [
       "<Figure size 1152x288 with 2 Axes>"
      ]
     },
     "metadata": {},
     "output_type": "display_data"
    }
   ],
   "source": [
    "plotvariable(df3, \"body_condition_score\")"
   ]
  },
  {
   "cell_type": "code",
   "execution_count": 180,
   "id": "2ec9db86",
   "metadata": {},
   "outputs": [
    {
     "data": {
      "image/png": "[encoded data removed]",
      "text/plain": [
       "<Figure size 1152x288 with 2 Axes>"
      ]
     },
     "metadata": {},
     "output_type": "display_data"
    }
   ],
   "source": [
    "plotvariable(df3, \"heart_rate\")"
   ]
  },
  {
   "cell_type": "code",
   "execution_count": 181,
   "id": "264173d9",
   "metadata": {},
   "outputs": [
    {
     "data": {
      "image/png": "[encoded data removed]",
      "text/plain": [
       "<Figure size 1152x288 with 2 Axes>"
      ]
     },
     "metadata": {},
     "output_type": "display_data"
    }
   ],
   "source": [
    "plotvariable(df3, \"eating_duration\")"
   ]
  },
  {
   "cell_type": "code",
   "execution_count": 182,
   "id": "bc60be39",
   "metadata": {},
   "outputs": [
    {
     "data": {
      "image/png": "[encoded data removed]",
      "text/plain": [
       "<Figure size 1152x288 with 2 Axes>"
      ]
     },
     "metadata": {},
     "output_type": "display_data"
    }
   ],
   "source": [
    "plotvariable(df3, \"lying_down_duration\")"
   ]
  },
  {
   "cell_type": "code",
   "execution_count": 183,
   "id": "d7a508bf",
   "metadata": {},
   "outputs": [
    {
     "data": {
      "image/png": "[encoded data removed]",
      "text/plain": [
       "<Figure size 1152x288 with 2 Axes>"
      ]
     },
     "metadata": {},
     "output_type": "display_data"
    }
   ],
   "source": [
    "plotvariable(df3, \"ruminating\")"
   ]
  },
  {
   "cell_type": "code",
   "execution_count": 184,
   "id": "cb47fb12",
   "metadata": {},
   "outputs": [
    {
     "data": {
      "image/png": "[encoded data removed]",
      "text/plain": [
       "<Figure size 1152x288 with 2 Axes>"
      ]
     },
     "metadata": {},
     "output_type": "display_data"
    }
   ],
   "source": [
    "plotvariable(df3, \"rumen_fill\")"
   ]
  },
  {
   "cell_type": "markdown",
   "id": "b6ca62ca",
   "metadata": {},
   "source": [
    "# After searching for outliers we can see there are little outliers in three features. \"body_temperature\" & \"rumen_fill\", \"lying_down_duration\".The amount of outliers is so little. it will not interupt in our model prediction but we will remove them."
   ]
  },
  {
   "cell_type": "markdown",
   "id": "47b5eadf",
   "metadata": {},
   "source": [
    "In this demo we will follow the IQR approach to filter and deal with outliers. as we know that lower limit for any observation is (Q1- 1.5*IQR) and upper limit is (Q3 + 1.5*IQR)\n",
    "these terms are as follow:\n",
    "\n",
    "\n",
    "- Q1 = 25th percentile\n",
    "- Q3 = 75th percentile\n",
    "- IQR = Q3- Q1"
   ]
  },
  {
   "cell_type": "code",
   "execution_count": 185,
   "id": "0ef5c548",
   "metadata": {},
   "outputs": [],
   "source": [
    "def find_bounderies(df3, variables):\n",
    "    Q1 = df3[variables].quantile(.25)\n",
    "    Q3 = df3[variables].quantile(.75)\n",
    "    IQR = Q3-Q1\n",
    "    lower_boundry = Q1 - 1.5*IQR\n",
    "    upper_boundry = Q3 + 1.5*IQR\n",
    "    \n",
    "    return lower_boundry, upper_boundry"
   ]
  },
  {
   "cell_type": "markdown",
   "id": "1cc3487c",
   "metadata": {},
   "source": [
    "# Removing Outliers for \"rumen_fill\""
   ]
  },
  {
   "cell_type": "code",
   "execution_count": 186,
   "id": "0a2ea68e",
   "metadata": {},
   "outputs": [
    {
     "name": "stdout",
     "output_type": "stream",
     "text": [
      "upper limit for RumenFill is :  4.5\n",
      "lower limit for RomenFill is :  0.5\n"
     ]
    }
   ],
   "source": [
    "lower_RumenFill, upper_RumenFill = find_bounderies(df3 , \"rumen_fill\")\n",
    "print(\"upper limit for RumenFill is : \" , upper_RumenFill)\n",
    "print(\"lower limit for RomenFill is : \" , lower_RumenFill)"
   ]
  },
  {
   "cell_type": "code",
   "execution_count": 187,
   "id": "6220b76b",
   "metadata": {},
   "outputs": [],
   "source": [
    "outliers_rumenfill = np.where(df3[\"rumen_fill\"] > upper_RumenFill, True,\n",
    "                              np.where(df3[\"rumen_fill\"] < lower_RumenFill, True,  False))"
   ]
  },
  {
   "cell_type": "code",
   "execution_count": 188,
   "id": "a19aa1fa",
   "metadata": {},
   "outputs": [
    {
     "data": {
      "text/plain": [
       "array([False, False, False, False,  True, False, False, False, False,\n",
       "       False, False, False, False, False, False, False, False,  True,\n",
       "       False, False, False, False, False, False, False, False, False,\n",
       "       False, False, False, False, False, False, False, False, False,\n",
       "       False, False, False, False, False, False, False, False, False,\n",
       "       False, False, False, False, False, False, False,  True, False,\n",
       "       False,  True, False, False, False, False, False, False, False,\n",
       "       False, False, False, False, False, False, False, False, False,\n",
       "       False, False, False, False, False, False,  True, False, False,\n",
       "       False, False, False, False, False, False, False, False, False,\n",
       "       False, False, False,  True, False, False, False, False, False,\n",
       "       False, False, False, False, False, False, False,  True, False,\n",
       "       False, False, False, False, False, False, False, False, False,\n",
       "       False, False, False, False, False, False, False, False, False,\n",
       "       False, False, False, False, False, False, False, False, False,\n",
       "       False, False, False, False, False, False,  True, False, False,\n",
       "        True, False, False, False, False, False, False, False, False,\n",
       "       False, False, False, False, False, False, False, False, False,\n",
       "       False, False, False, False, False,  True, False, False, False,\n",
       "       False, False, False, False, False, False, False])"
      ]
     },
     "execution_count": 188,
     "metadata": {},
     "output_type": "execute_result"
    }
   ],
   "source": [
    "outliers_rumenfill"
   ]
  },
  {
   "cell_type": "code",
   "execution_count": 189,
   "id": "21c772cb",
   "metadata": {},
   "outputs": [
    {
     "data": {
      "text/plain": [
       "(178, 14)"
      ]
     },
     "execution_count": 189,
     "metadata": {},
     "output_type": "execute_result"
    }
   ],
   "source": [
    "df3.shape"
   ]
  },
  {
   "cell_type": "code",
   "execution_count": 190,
   "id": "dc2a722c",
   "metadata": {},
   "outputs": [
    {
     "data": {
      "text/plain": [
       "(168, 14)"
      ]
     },
     "execution_count": 190,
     "metadata": {},
     "output_type": "execute_result"
    }
   ],
   "source": [
    "df4 = df3.loc[~(outliers_rumenfill)]\n",
    "df4.shape"
   ]
  },
  {
   "cell_type": "code",
   "execution_count": 191,
   "id": "f79a441f",
   "metadata": {},
   "outputs": [
    {
     "data": {
      "image/png": "[encoded data removed]",
      "text/plain": [
       "<Figure size 1152x288 with 2 Axes>"
      ]
     },
     "metadata": {},
     "output_type": "display_data"
    }
   ],
   "source": [
    "plotvariable(df4, \"rumen_fill\")"
   ]
  },
  {
   "cell_type": "markdown",
   "id": "8433b0f0",
   "metadata": {},
   "source": [
    "# Removing outliers from \"body_temperature\"."
   ]
  },
  {
   "cell_type": "code",
   "execution_count": 217,
   "id": "b59d9600",
   "metadata": {},
   "outputs": [
    {
     "name": "stdout",
     "output_type": "stream",
     "text": [
      "upper limit for body_temperature is :  41.86250000000001\n",
      "lower limit for body_temperature is :  36.162499999999994\n"
     ]
    }
   ],
   "source": [
    "lower_body_temperature, upper_body_temperature = find_bounderies(df4 , \"body_temperature\")\n",
    "print(\"upper limit for body_temperature is : \" , upper_body_temperature)\n",
    "print(\"lower limit for body_temperature is : \" , lower_body_temperature)"
   ]
  },
  {
   "cell_type": "code",
   "execution_count": 218,
   "id": "10e3a9ca",
   "metadata": {},
   "outputs": [],
   "source": [
    "outliers_body_temperature = np.where(df4[\"body_temperature\"] > upper_body_temperature, True,\n",
    "                              np.where(df4[\"body_temperature\"] < lower_body_temperature, True,  False))"
   ]
  },
  {
   "cell_type": "code",
   "execution_count": 219,
   "id": "59d5875f",
   "metadata": {},
   "outputs": [
    {
     "data": {
      "text/plain": [
       "array([False, False, False, False, False, False, False, False, False,\n",
       "       False, False, False, False, False, False, False, False, False,\n",
       "       False, False, False,  True, False, False, False, False, False,\n",
       "       False, False, False, False, False, False, False, False, False,\n",
       "       False, False, False, False, False, False, False, False, False,\n",
       "       False, False, False, False, False, False, False, False, False,\n",
       "       False, False, False, False, False, False, False, False, False,\n",
       "       False, False, False, False, False, False, False, False, False,\n",
       "       False, False, False, False, False, False, False, False, False,\n",
       "       False, False, False, False, False, False, False, False, False,\n",
       "       False, False, False, False, False, False, False, False, False,\n",
       "       False, False, False, False, False, False,  True, False, False,\n",
       "       False, False, False, False, False, False, False, False, False,\n",
       "       False, False, False, False, False, False, False, False, False,\n",
       "       False, False, False, False, False, False, False, False, False,\n",
       "       False, False, False, False, False, False, False, False, False,\n",
       "       False, False, False, False, False, False, False, False, False,\n",
       "       False, False, False, False, False, False, False, False, False,\n",
       "       False, False, False, False, False, False])"
      ]
     },
     "execution_count": 219,
     "metadata": {},
     "output_type": "execute_result"
    }
   ],
   "source": [
    "outliers_body_temperature"
   ]
  },
  {
   "cell_type": "code",
   "execution_count": 220,
   "id": "b95727ea",
   "metadata": {},
   "outputs": [
    {
     "data": {
      "text/plain": [
       "(168, 14)"
      ]
     },
     "execution_count": 220,
     "metadata": {},
     "output_type": "execute_result"
    }
   ],
   "source": [
    "df4.shape"
   ]
  },
  {
   "cell_type": "code",
   "execution_count": 221,
   "id": "a9ae019b",
   "metadata": {},
   "outputs": [
    {
     "data": {
      "text/plain": [
       "(166, 14)"
      ]
     },
     "execution_count": 221,
     "metadata": {},
     "output_type": "execute_result"
    }
   ],
   "source": [
    "df5 = df4.loc[~(outliers_body_temperature)]\n",
    "df5.shape"
   ]
  },
  {
   "cell_type": "code",
   "execution_count": 222,
   "id": "bd3b0f6c",
   "metadata": {},
   "outputs": [
    {
     "data": {
      "image/png": "[encoded data removed]",
      "text/plain": [
       "<Figure size 1152x288 with 2 Axes>"
      ]
     },
     "metadata": {},
     "output_type": "display_data"
    }
   ],
   "source": [
    "plotvariable(df5, \"body_temperature\")"
   ]
  },
  {
   "cell_type": "markdown",
   "id": "0edebdc9",
   "metadata": {},
   "source": [
    "# Removing outliers from \"lying_down_duration\"."
   ]
  },
  {
   "cell_type": "code",
   "execution_count": 223,
   "id": "7363e5bb",
   "metadata": {},
   "outputs": [
    {
     "name": "stdout",
     "output_type": "stream",
     "text": [
      "upper limit for lying_down_duration is :  18.362499999999997\n",
      "lower limit for lying_down_duration is :  9.662500000000001\n"
     ]
    }
   ],
   "source": [
    "lower_lying_down_duration, upper_lying_down_duration = find_bounderies(df5 , \"lying_down_duration\")\n",
    "print(\"upper limit for lying_down_duration is : \" , upper_lying_down_duration)\n",
    "print(\"lower limit for lying_down_duration is : \" , lower_lying_down_duration)"
   ]
  },
  {
   "cell_type": "code",
   "execution_count": 224,
   "id": "36e07b80",
   "metadata": {},
   "outputs": [],
   "source": [
    "outliers_lying_down_duration = np.where(df5[\"lying_down_duration\"] > upper_lying_down_duration, True,\n",
    "                              np.where(df5[\"lying_down_duration\"] < lower_lying_down_duration, True,  False))"
   ]
  },
  {
   "cell_type": "code",
   "execution_count": 225,
   "id": "a5fd60a5",
   "metadata": {},
   "outputs": [
    {
     "data": {
      "text/plain": [
       "array([False, False, False, False, False, False, False, False, False,\n",
       "       False, False, False, False, False, False, False, False, False,\n",
       "       False, False, False, False, False, False, False,  True, False,\n",
       "       False, False, False, False, False, False, False, False, False,\n",
       "       False, False, False, False, False, False, False, False, False,\n",
       "       False, False, False, False, False, False, False, False, False,\n",
       "       False, False, False, False, False, False, False, False, False,\n",
       "       False, False, False, False, False, False, False, False, False,\n",
       "       False, False, False, False, False, False, False, False, False,\n",
       "       False, False, False, False, False, False, False, False, False,\n",
       "       False, False, False, False, False, False, False, False, False,\n",
       "       False, False, False, False, False, False, False, False, False,\n",
       "        True, False, False, False, False, False, False, False, False,\n",
       "       False, False, False, False, False, False, False, False, False,\n",
       "       False, False, False, False, False, False, False, False, False,\n",
       "       False, False, False, False, False, False, False, False, False,\n",
       "       False, False, False, False, False, False, False, False, False,\n",
       "       False, False, False, False, False, False, False, False, False,\n",
       "       False, False, False, False])"
      ]
     },
     "execution_count": 225,
     "metadata": {},
     "output_type": "execute_result"
    }
   ],
   "source": [
    "outliers_lying_down_duration"
   ]
  },
  {
   "cell_type": "code",
   "execution_count": 226,
   "id": "d6cf5dd4",
   "metadata": {},
   "outputs": [
    {
     "data": {
      "text/plain": [
       "(166, 14)"
      ]
     },
     "execution_count": 226,
     "metadata": {},
     "output_type": "execute_result"
    }
   ],
   "source": [
    "df5.shape"
   ]
  },
  {
   "cell_type": "code",
   "execution_count": 227,
   "id": "178bad47",
   "metadata": {},
   "outputs": [
    {
     "data": {
      "text/plain": [
       "(164, 14)"
      ]
     },
     "execution_count": 227,
     "metadata": {},
     "output_type": "execute_result"
    }
   ],
   "source": [
    "df6 = df5.loc[~(outliers_lying_down_duration)]\n",
    "\n",
    "df6.shape"
   ]
  },
  {
   "cell_type": "code",
   "execution_count": 228,
   "id": "9204c22b",
   "metadata": {},
   "outputs": [
    {
     "data": {
      "image/png": "[encoded data removed]",
      "text/plain": [
       "<Figure size 1152x288 with 2 Axes>"
      ]
     },
     "metadata": {},
     "output_type": "display_data"
    }
   ],
   "source": [
    "plotvariable(df6, \"lying_down_duration\")"
   ]
  },
  {
   "cell_type": "markdown",
   "id": "8decfbcc",
   "metadata": {},
   "source": [
    "After removing outliers from these three features, Now our data is outliers free."
   ]
  },
  {
   "cell_type": "markdown",
   "id": "1387207c",
   "metadata": {},
   "source": [
    "# Splitting Training and Testing data."
   ]
  },
  {
   "cell_type": "code",
   "execution_count": 246,
   "id": "c8d8f404",
   "metadata": {},
   "outputs": [],
   "source": [
    "x = df6.drop(columns = 'Target')\n",
    "y = df6['Target']"
   ]
  },
  {
   "cell_type": "code",
   "execution_count": 247,
   "id": "193a3bea",
   "metadata": {},
   "outputs": [
    {
     "data": {
      "text/html": [
       "<div>\n",
       "<style scoped>\n",
       "    .dataframe tbody tr th:only-of-type {\n",
       "        vertical-align: middle;\n",
       "    }\n",
       "\n",
       "    .dataframe tbody tr th {\n",
       "        vertical-align: top;\n",
       "    }\n",
       "\n",
       "    .dataframe thead th {\n",
       "        text-align: right;\n",
       "    }\n",
       "</style>\n",
       "<table border=\"1\" class=\"dataframe\">\n",
       "  <thead>\n",
       "    <tr style=\"text-align: right;\">\n",
       "      <th></th>\n",
       "      <th>body_temperature</th>\n",
       "      <th>milk_production</th>\n",
       "      <th>respiratory_rate</th>\n",
       "      <th>walking_capacity</th>\n",
       "      <th>sleeping_duration</th>\n",
       "      <th>body_condition_score</th>\n",
       "      <th>heart_rate</th>\n",
       "      <th>eating_duration</th>\n",
       "      <th>lying_down_duration</th>\n",
       "      <th>ruminating</th>\n",
       "      <th>rumen_fill</th>\n",
       "      <th>BreedType_binary</th>\n",
       "      <th>FaecalConsistency_binary</th>\n",
       "    </tr>\n",
       "  </thead>\n",
       "  <tbody>\n",
       "    <tr>\n",
       "      <th>0</th>\n",
       "      <td>38.2</td>\n",
       "      <td>13.6</td>\n",
       "      <td>36</td>\n",
       "      <td>12432</td>\n",
       "      <td>3.5</td>\n",
       "      <td>3</td>\n",
       "      <td>50</td>\n",
       "      <td>3.2</td>\n",
       "      <td>15.0</td>\n",
       "      <td>6.0</td>\n",
       "      <td>3</td>\n",
       "      <td>0</td>\n",
       "      <td>3</td>\n",
       "    </tr>\n",
       "    <tr>\n",
       "      <th>1</th>\n",
       "      <td>38.9</td>\n",
       "      <td>24.1</td>\n",
       "      <td>37</td>\n",
       "      <td>11987</td>\n",
       "      <td>4.2</td>\n",
       "      <td>2</td>\n",
       "      <td>62</td>\n",
       "      <td>3.9</td>\n",
       "      <td>12.2</td>\n",
       "      <td>5.8</td>\n",
       "      <td>4</td>\n",
       "      <td>1</td>\n",
       "      <td>4</td>\n",
       "    </tr>\n",
       "    <tr>\n",
       "      <th>2</th>\n",
       "      <td>38.6</td>\n",
       "      <td>14.7</td>\n",
       "      <td>42</td>\n",
       "      <td>13121</td>\n",
       "      <td>3.2</td>\n",
       "      <td>3</td>\n",
       "      <td>71</td>\n",
       "      <td>3.0</td>\n",
       "      <td>12.6</td>\n",
       "      <td>5.9</td>\n",
       "      <td>2</td>\n",
       "      <td>0</td>\n",
       "      <td>4</td>\n",
       "    </tr>\n",
       "    <tr>\n",
       "      <th>3</th>\n",
       "      <td>39.5</td>\n",
       "      <td>26.2</td>\n",
       "      <td>29</td>\n",
       "      <td>12055</td>\n",
       "      <td>3.8</td>\n",
       "      <td>4</td>\n",
       "      <td>68</td>\n",
       "      <td>3.6</td>\n",
       "      <td>13.5</td>\n",
       "      <td>6.0</td>\n",
       "      <td>2</td>\n",
       "      <td>1</td>\n",
       "      <td>0</td>\n",
       "    </tr>\n",
       "    <tr>\n",
       "      <th>5</th>\n",
       "      <td>40.0</td>\n",
       "      <td>10.9</td>\n",
       "      <td>24</td>\n",
       "      <td>9352</td>\n",
       "      <td>3.9</td>\n",
       "      <td>1</td>\n",
       "      <td>60</td>\n",
       "      <td>3.5</td>\n",
       "      <td>12.2</td>\n",
       "      <td>5.5</td>\n",
       "      <td>1</td>\n",
       "      <td>0</td>\n",
       "      <td>2</td>\n",
       "    </tr>\n",
       "    <tr>\n",
       "      <th>...</th>\n",
       "      <td>...</td>\n",
       "      <td>...</td>\n",
       "      <td>...</td>\n",
       "      <td>...</td>\n",
       "      <td>...</td>\n",
       "      <td>...</td>\n",
       "      <td>...</td>\n",
       "      <td>...</td>\n",
       "      <td>...</td>\n",
       "      <td>...</td>\n",
       "      <td>...</td>\n",
       "      <td>...</td>\n",
       "      <td>...</td>\n",
       "    </tr>\n",
       "    <tr>\n",
       "      <th>173</th>\n",
       "      <td>39.9</td>\n",
       "      <td>6.8</td>\n",
       "      <td>28</td>\n",
       "      <td>6942</td>\n",
       "      <td>7.1</td>\n",
       "      <td>4</td>\n",
       "      <td>47</td>\n",
       "      <td>1.9</td>\n",
       "      <td>15.0</td>\n",
       "      <td>3.1</td>\n",
       "      <td>3</td>\n",
       "      <td>0</td>\n",
       "      <td>2</td>\n",
       "    </tr>\n",
       "    <tr>\n",
       "      <th>174</th>\n",
       "      <td>40.2</td>\n",
       "      <td>7.2</td>\n",
       "      <td>20</td>\n",
       "      <td>6652</td>\n",
       "      <td>6.5</td>\n",
       "      <td>4</td>\n",
       "      <td>41</td>\n",
       "      <td>2.0</td>\n",
       "      <td>15.5</td>\n",
       "      <td>3.6</td>\n",
       "      <td>4</td>\n",
       "      <td>0</td>\n",
       "      <td>1</td>\n",
       "    </tr>\n",
       "    <tr>\n",
       "      <th>175</th>\n",
       "      <td>39.8</td>\n",
       "      <td>7.7</td>\n",
       "      <td>16</td>\n",
       "      <td>6705</td>\n",
       "      <td>6.6</td>\n",
       "      <td>3</td>\n",
       "      <td>37</td>\n",
       "      <td>2.6</td>\n",
       "      <td>14.8</td>\n",
       "      <td>4.2</td>\n",
       "      <td>3</td>\n",
       "      <td>0</td>\n",
       "      <td>3</td>\n",
       "    </tr>\n",
       "    <tr>\n",
       "      <th>176</th>\n",
       "      <td>39.5</td>\n",
       "      <td>5.7</td>\n",
       "      <td>21</td>\n",
       "      <td>6272</td>\n",
       "      <td>6.8</td>\n",
       "      <td>3</td>\n",
       "      <td>45</td>\n",
       "      <td>2.2</td>\n",
       "      <td>15.0</td>\n",
       "      <td>3.1</td>\n",
       "      <td>2</td>\n",
       "      <td>0</td>\n",
       "      <td>5</td>\n",
       "    </tr>\n",
       "    <tr>\n",
       "      <th>177</th>\n",
       "      <td>39.6</td>\n",
       "      <td>5.1</td>\n",
       "      <td>20</td>\n",
       "      <td>5289</td>\n",
       "      <td>6.1</td>\n",
       "      <td>1</td>\n",
       "      <td>42</td>\n",
       "      <td>1.6</td>\n",
       "      <td>16.3</td>\n",
       "      <td>3.0</td>\n",
       "      <td>1</td>\n",
       "      <td>0</td>\n",
       "      <td>5</td>\n",
       "    </tr>\n",
       "  </tbody>\n",
       "</table>\n",
       "<p>164 rows × 13 columns</p>\n",
       "</div>"
      ],
      "text/plain": [
       "     body_temperature  milk_production  respiratory_rate  walking_capacity  \\\n",
       "0                38.2             13.6                36             12432   \n",
       "1                38.9             24.1                37             11987   \n",
       "2                38.6             14.7                42             13121   \n",
       "3                39.5             26.2                29             12055   \n",
       "5                40.0             10.9                24              9352   \n",
       "..                ...              ...               ...               ...   \n",
       "173              39.9              6.8                28              6942   \n",
       "174              40.2              7.2                20              6652   \n",
       "175              39.8              7.7                16              6705   \n",
       "176              39.5              5.7                21              6272   \n",
       "177              39.6              5.1                20              5289   \n",
       "\n",
       "     sleeping_duration  body_condition_score  heart_rate  eating_duration  \\\n",
       "0                  3.5                     3          50              3.2   \n",
       "1                  4.2                     2          62              3.9   \n",
       "2                  3.2                     3          71              3.0   \n",
       "3                  3.8                     4          68              3.6   \n",
       "5                  3.9                     1          60              3.5   \n",
       "..                 ...                   ...         ...              ...   \n",
       "173                7.1                     4          47              1.9   \n",
       "174                6.5                     4          41              2.0   \n",
       "175                6.6                     3          37              2.6   \n",
       "176                6.8                     3          45              2.2   \n",
       "177                6.1                     1          42              1.6   \n",
       "\n",
       "     lying_down_duration  ruminating  rumen_fill  BreedType_binary  \\\n",
       "0                   15.0         6.0           3                 0   \n",
       "1                   12.2         5.8           4                 1   \n",
       "2                   12.6         5.9           2                 0   \n",
       "3                   13.5         6.0           2                 1   \n",
       "5                   12.2         5.5           1                 0   \n",
       "..                   ...         ...         ...               ...   \n",
       "173                 15.0         3.1           3                 0   \n",
       "174                 15.5         3.6           4                 0   \n",
       "175                 14.8         4.2           3                 0   \n",
       "176                 15.0         3.1           2                 0   \n",
       "177                 16.3         3.0           1                 0   \n",
       "\n",
       "     FaecalConsistency_binary  \n",
       "0                           3  \n",
       "1                           4  \n",
       "2                           4  \n",
       "3                           0  \n",
       "5                           2  \n",
       "..                        ...  \n",
       "173                         2  \n",
       "174                         1  \n",
       "175                         3  \n",
       "176                         5  \n",
       "177                         5  \n",
       "\n",
       "[164 rows x 13 columns]"
      ]
     },
     "execution_count": 247,
     "metadata": {},
     "output_type": "execute_result"
    }
   ],
   "source": [
    "x"
   ]
  },
  {
   "cell_type": "code",
   "execution_count": 248,
   "id": "f3628244",
   "metadata": {},
   "outputs": [
    {
     "data": {
      "text/plain": [
       "0      1\n",
       "1      0\n",
       "2      0\n",
       "3      1\n",
       "5      1\n",
       "      ..\n",
       "173    1\n",
       "174    1\n",
       "175    1\n",
       "176    1\n",
       "177    1\n",
       "Name: Target, Length: 164, dtype: int32"
      ]
     },
     "execution_count": 248,
     "metadata": {},
     "output_type": "execute_result"
    }
   ],
   "source": [
    "y"
   ]
  },
  {
   "cell_type": "code",
   "execution_count": 311,
   "id": "13168463",
   "metadata": {},
   "outputs": [],
   "source": [
    "from sklearn.model_selection import train_test_split \n",
    "x_train,x_test,y_train,y_test = train_test_split(x,y,test_size=0.2,random_state=0)"
   ]
  },
  {
   "cell_type": "markdown",
   "id": "13dc0295",
   "metadata": {},
   "source": [
    "# Scaling the data with MinMaxScaler."
   ]
  },
  {
   "cell_type": "code",
   "execution_count": 312,
   "id": "c24e5977",
   "metadata": {},
   "outputs": [],
   "source": [
    "from sklearn.preprocessing import MinMaxScaler\n",
    "scaler = MinMaxScaler()\n",
    "scaler.fit(x_train)\n",
    "x_train_scaled = scaler.transform(x_train)\n",
    "x_test_scaled = scaler.transform(x_test)"
   ]
  },
  {
   "cell_type": "code",
   "execution_count": 313,
   "id": "0ec69e7a",
   "metadata": {},
   "outputs": [],
   "source": [
    "# scaler.df6_max_"
   ]
  },
  {
   "cell_type": "code",
   "execution_count": 314,
   "id": "e693ecd1",
   "metadata": {},
   "outputs": [
    {
     "data": {
      "text/plain": [
       "array([3.84615385e-01, 4.67289720e-02, 2.85714286e-02, 1.22669284e-04,\n",
       "       2.27272727e-01, 2.50000000e-01, 2.17391304e-02, 2.77777778e-01,\n",
       "       2.22222222e-01, 2.63157895e-01, 3.33333333e-01, 1.00000000e+00,\n",
       "       2.00000000e-01])"
      ]
     },
     "execution_count": 314,
     "metadata": {},
     "output_type": "execute_result"
    }
   ],
   "source": [
    "# the scaler stores the standard deviation of the featuring scale\n",
    "\n",
    "scaler.scale_"
   ]
  },
  {
   "cell_type": "markdown",
   "id": "d663b208",
   "metadata": {},
   "source": [
    "As all data are in array form. We will use pandas dataframe to convert them into dataframe."
   ]
  },
  {
   "cell_type": "code",
   "execution_count": 315,
   "id": "aa8e5389",
   "metadata": {},
   "outputs": [],
   "source": [
    "x_train_scaled = pd.DataFrame(x_train_scaled , columns=x_train.columns)\n",
    "x_test_scaled = pd.DataFrame(x_test_scaled , columns=x_test.columns)"
   ]
  },
  {
   "cell_type": "code",
   "execution_count": 316,
   "id": "5c1acff0",
   "metadata": {},
   "outputs": [
    {
     "data": {
      "text/html": [
       "<div>\n",
       "<style scoped>\n",
       "    .dataframe tbody tr th:only-of-type {\n",
       "        vertical-align: middle;\n",
       "    }\n",
       "\n",
       "    .dataframe tbody tr th {\n",
       "        vertical-align: top;\n",
       "    }\n",
       "\n",
       "    .dataframe thead th {\n",
       "        text-align: right;\n",
       "    }\n",
       "</style>\n",
       "<table border=\"1\" class=\"dataframe\">\n",
       "  <thead>\n",
       "    <tr style=\"text-align: right;\">\n",
       "      <th></th>\n",
       "      <th>body_temperature</th>\n",
       "      <th>milk_production</th>\n",
       "      <th>respiratory_rate</th>\n",
       "      <th>walking_capacity</th>\n",
       "      <th>sleeping_duration</th>\n",
       "      <th>body_condition_score</th>\n",
       "      <th>heart_rate</th>\n",
       "      <th>eating_duration</th>\n",
       "      <th>lying_down_duration</th>\n",
       "      <th>ruminating</th>\n",
       "      <th>rumen_fill</th>\n",
       "      <th>BreedType_binary</th>\n",
       "      <th>FaecalConsistency_binary</th>\n",
       "    </tr>\n",
       "  </thead>\n",
       "  <tbody>\n",
       "    <tr>\n",
       "      <th>0</th>\n",
       "      <td>0.576923</td>\n",
       "      <td>0.392523</td>\n",
       "      <td>0.028571</td>\n",
       "      <td>0.229146</td>\n",
       "      <td>0.727273</td>\n",
       "      <td>1.00</td>\n",
       "      <td>0.021739</td>\n",
       "      <td>0.388889</td>\n",
       "      <td>0.755556</td>\n",
       "      <td>0.447368</td>\n",
       "      <td>0.666667</td>\n",
       "      <td>1.0</td>\n",
       "      <td>1.0</td>\n",
       "    </tr>\n",
       "    <tr>\n",
       "      <th>1</th>\n",
       "      <td>0.192308</td>\n",
       "      <td>0.205607</td>\n",
       "      <td>0.800000</td>\n",
       "      <td>0.870829</td>\n",
       "      <td>0.181818</td>\n",
       "      <td>0.50</td>\n",
       "      <td>0.760870</td>\n",
       "      <td>0.527778</td>\n",
       "      <td>0.377778</td>\n",
       "      <td>0.815789</td>\n",
       "      <td>0.000000</td>\n",
       "      <td>0.0</td>\n",
       "      <td>0.8</td>\n",
       "    </tr>\n",
       "    <tr>\n",
       "      <th>2</th>\n",
       "      <td>0.038462</td>\n",
       "      <td>0.322430</td>\n",
       "      <td>0.600000</td>\n",
       "      <td>0.869235</td>\n",
       "      <td>0.045455</td>\n",
       "      <td>0.25</td>\n",
       "      <td>1.000000</td>\n",
       "      <td>0.500000</td>\n",
       "      <td>0.311111</td>\n",
       "      <td>0.684211</td>\n",
       "      <td>0.666667</td>\n",
       "      <td>0.0</td>\n",
       "      <td>0.8</td>\n",
       "    </tr>\n",
       "    <tr>\n",
       "      <th>3</th>\n",
       "      <td>0.153846</td>\n",
       "      <td>0.939252</td>\n",
       "      <td>0.628571</td>\n",
       "      <td>0.828999</td>\n",
       "      <td>0.250000</td>\n",
       "      <td>0.75</td>\n",
       "      <td>0.369565</td>\n",
       "      <td>0.611111</td>\n",
       "      <td>0.155556</td>\n",
       "      <td>0.789474</td>\n",
       "      <td>1.000000</td>\n",
       "      <td>1.0</td>\n",
       "      <td>0.8</td>\n",
       "    </tr>\n",
       "    <tr>\n",
       "      <th>4</th>\n",
       "      <td>0.000000</td>\n",
       "      <td>0.929907</td>\n",
       "      <td>0.685714</td>\n",
       "      <td>0.879171</td>\n",
       "      <td>0.068182</td>\n",
       "      <td>0.50</td>\n",
       "      <td>0.847826</td>\n",
       "      <td>0.666667</td>\n",
       "      <td>0.311111</td>\n",
       "      <td>0.763158</td>\n",
       "      <td>0.666667</td>\n",
       "      <td>1.0</td>\n",
       "      <td>0.8</td>\n",
       "    </tr>\n",
       "  </tbody>\n",
       "</table>\n",
       "</div>"
      ],
      "text/plain": [
       "   body_temperature  milk_production  respiratory_rate  walking_capacity  \\\n",
       "0          0.576923         0.392523          0.028571          0.229146   \n",
       "1          0.192308         0.205607          0.800000          0.870829   \n",
       "2          0.038462         0.322430          0.600000          0.869235   \n",
       "3          0.153846         0.939252          0.628571          0.828999   \n",
       "4          0.000000         0.929907          0.685714          0.879171   \n",
       "\n",
       "   sleeping_duration  body_condition_score  heart_rate  eating_duration  \\\n",
       "0           0.727273                  1.00    0.021739         0.388889   \n",
       "1           0.181818                  0.50    0.760870         0.527778   \n",
       "2           0.045455                  0.25    1.000000         0.500000   \n",
       "3           0.250000                  0.75    0.369565         0.611111   \n",
       "4           0.068182                  0.50    0.847826         0.666667   \n",
       "\n",
       "   lying_down_duration  ruminating  rumen_fill  BreedType_binary  \\\n",
       "0             0.755556    0.447368    0.666667               1.0   \n",
       "1             0.377778    0.815789    0.000000               0.0   \n",
       "2             0.311111    0.684211    0.666667               0.0   \n",
       "3             0.155556    0.789474    1.000000               1.0   \n",
       "4             0.311111    0.763158    0.666667               1.0   \n",
       "\n",
       "   FaecalConsistency_binary  \n",
       "0                       1.0  \n",
       "1                       0.8  \n",
       "2                       0.8  \n",
       "3                       0.8  \n",
       "4                       0.8  "
      ]
     },
     "execution_count": 316,
     "metadata": {},
     "output_type": "execute_result"
    }
   ],
   "source": [
    "x_train_scaled.head()"
   ]
  },
  {
   "cell_type": "code",
   "execution_count": 317,
   "id": "b18eb141",
   "metadata": {},
   "outputs": [
    {
     "data": {
      "text/html": [
       "<div>\n",
       "<style scoped>\n",
       "    .dataframe tbody tr th:only-of-type {\n",
       "        vertical-align: middle;\n",
       "    }\n",
       "\n",
       "    .dataframe tbody tr th {\n",
       "        vertical-align: top;\n",
       "    }\n",
       "\n",
       "    .dataframe thead th {\n",
       "        text-align: right;\n",
       "    }\n",
       "</style>\n",
       "<table border=\"1\" class=\"dataframe\">\n",
       "  <thead>\n",
       "    <tr style=\"text-align: right;\">\n",
       "      <th></th>\n",
       "      <th>body_temperature</th>\n",
       "      <th>milk_production</th>\n",
       "      <th>respiratory_rate</th>\n",
       "      <th>walking_capacity</th>\n",
       "      <th>sleeping_duration</th>\n",
       "      <th>body_condition_score</th>\n",
       "      <th>heart_rate</th>\n",
       "      <th>eating_duration</th>\n",
       "      <th>lying_down_duration</th>\n",
       "      <th>ruminating</th>\n",
       "      <th>rumen_fill</th>\n",
       "      <th>BreedType_binary</th>\n",
       "      <th>FaecalConsistency_binary</th>\n",
       "    </tr>\n",
       "  </thead>\n",
       "  <tbody>\n",
       "    <tr>\n",
       "      <th>count</th>\n",
       "      <td>131.00</td>\n",
       "      <td>131.00</td>\n",
       "      <td>131.00</td>\n",
       "      <td>131.00</td>\n",
       "      <td>131.00</td>\n",
       "      <td>131.00</td>\n",
       "      <td>131.00</td>\n",
       "      <td>131.00</td>\n",
       "      <td>131.00</td>\n",
       "      <td>131.00</td>\n",
       "      <td>131.00</td>\n",
       "      <td>131.0</td>\n",
       "      <td>131.00</td>\n",
       "    </tr>\n",
       "    <tr>\n",
       "      <th>mean</th>\n",
       "      <td>0.42</td>\n",
       "      <td>0.44</td>\n",
       "      <td>0.39</td>\n",
       "      <td>0.50</td>\n",
       "      <td>0.51</td>\n",
       "      <td>0.46</td>\n",
       "      <td>0.36</td>\n",
       "      <td>0.41</td>\n",
       "      <td>0.50</td>\n",
       "      <td>0.47</td>\n",
       "      <td>0.52</td>\n",
       "      <td>0.5</td>\n",
       "      <td>0.65</td>\n",
       "    </tr>\n",
       "    <tr>\n",
       "      <th>std</th>\n",
       "      <td>0.30</td>\n",
       "      <td>0.32</td>\n",
       "      <td>0.27</td>\n",
       "      <td>0.40</td>\n",
       "      <td>0.36</td>\n",
       "      <td>0.32</td>\n",
       "      <td>0.29</td>\n",
       "      <td>0.21</td>\n",
       "      <td>0.28</td>\n",
       "      <td>0.31</td>\n",
       "      <td>0.30</td>\n",
       "      <td>0.5</td>\n",
       "      <td>0.25</td>\n",
       "    </tr>\n",
       "    <tr>\n",
       "      <th>min</th>\n",
       "      <td>0.00</td>\n",
       "      <td>0.00</td>\n",
       "      <td>0.00</td>\n",
       "      <td>0.00</td>\n",
       "      <td>0.00</td>\n",
       "      <td>0.00</td>\n",
       "      <td>0.00</td>\n",
       "      <td>0.00</td>\n",
       "      <td>0.00</td>\n",
       "      <td>0.00</td>\n",
       "      <td>0.00</td>\n",
       "      <td>0.0</td>\n",
       "      <td>0.00</td>\n",
       "    </tr>\n",
       "    <tr>\n",
       "      <th>25%</th>\n",
       "      <td>0.12</td>\n",
       "      <td>0.13</td>\n",
       "      <td>0.17</td>\n",
       "      <td>0.11</td>\n",
       "      <td>0.16</td>\n",
       "      <td>0.25</td>\n",
       "      <td>0.11</td>\n",
       "      <td>0.25</td>\n",
       "      <td>0.24</td>\n",
       "      <td>0.16</td>\n",
       "      <td>0.33</td>\n",
       "      <td>0.0</td>\n",
       "      <td>0.40</td>\n",
       "    </tr>\n",
       "    <tr>\n",
       "      <th>50%</th>\n",
       "      <td>0.58</td>\n",
       "      <td>0.39</td>\n",
       "      <td>0.34</td>\n",
       "      <td>0.53</td>\n",
       "      <td>0.36</td>\n",
       "      <td>0.50</td>\n",
       "      <td>0.26</td>\n",
       "      <td>0.42</td>\n",
       "      <td>0.51</td>\n",
       "      <td>0.50</td>\n",
       "      <td>0.67</td>\n",
       "      <td>1.0</td>\n",
       "      <td>0.80</td>\n",
       "    </tr>\n",
       "    <tr>\n",
       "      <th>75%</th>\n",
       "      <td>0.69</td>\n",
       "      <td>0.75</td>\n",
       "      <td>0.60</td>\n",
       "      <td>0.88</td>\n",
       "      <td>0.86</td>\n",
       "      <td>0.75</td>\n",
       "      <td>0.61</td>\n",
       "      <td>0.56</td>\n",
       "      <td>0.71</td>\n",
       "      <td>0.76</td>\n",
       "      <td>0.67</td>\n",
       "      <td>1.0</td>\n",
       "      <td>0.80</td>\n",
       "    </tr>\n",
       "    <tr>\n",
       "      <th>max</th>\n",
       "      <td>1.00</td>\n",
       "      <td>1.00</td>\n",
       "      <td>1.00</td>\n",
       "      <td>1.00</td>\n",
       "      <td>1.00</td>\n",
       "      <td>1.00</td>\n",
       "      <td>1.00</td>\n",
       "      <td>1.00</td>\n",
       "      <td>1.00</td>\n",
       "      <td>1.00</td>\n",
       "      <td>1.00</td>\n",
       "      <td>1.0</td>\n",
       "      <td>1.00</td>\n",
       "    </tr>\n",
       "  </tbody>\n",
       "</table>\n",
       "</div>"
      ],
      "text/plain": [
       "       body_temperature  milk_production  respiratory_rate  walking_capacity  \\\n",
       "count            131.00           131.00            131.00            131.00   \n",
       "mean               0.42             0.44              0.39              0.50   \n",
       "std                0.30             0.32              0.27              0.40   \n",
       "min                0.00             0.00              0.00              0.00   \n",
       "25%                0.12             0.13              0.17              0.11   \n",
       "50%                0.58             0.39              0.34              0.53   \n",
       "75%                0.69             0.75              0.60              0.88   \n",
       "max                1.00             1.00              1.00              1.00   \n",
       "\n",
       "       sleeping_duration  body_condition_score  heart_rate  eating_duration  \\\n",
       "count             131.00                131.00      131.00           131.00   \n",
       "mean                0.51                  0.46        0.36             0.41   \n",
       "std                 0.36                  0.32        0.29             0.21   \n",
       "min                 0.00                  0.00        0.00             0.00   \n",
       "25%                 0.16                  0.25        0.11             0.25   \n",
       "50%                 0.36                  0.50        0.26             0.42   \n",
       "75%                 0.86                  0.75        0.61             0.56   \n",
       "max                 1.00                  1.00        1.00             1.00   \n",
       "\n",
       "       lying_down_duration  ruminating  rumen_fill  BreedType_binary  \\\n",
       "count               131.00      131.00      131.00             131.0   \n",
       "mean                  0.50        0.47        0.52               0.5   \n",
       "std                   0.28        0.31        0.30               0.5   \n",
       "min                   0.00        0.00        0.00               0.0   \n",
       "25%                   0.24        0.16        0.33               0.0   \n",
       "50%                   0.51        0.50        0.67               1.0   \n",
       "75%                   0.71        0.76        0.67               1.0   \n",
       "max                   1.00        1.00        1.00               1.0   \n",
       "\n",
       "       FaecalConsistency_binary  \n",
       "count                    131.00  \n",
       "mean                       0.65  \n",
       "std                        0.25  \n",
       "min                        0.00  \n",
       "25%                        0.40  \n",
       "50%                        0.80  \n",
       "75%                        0.80  \n",
       "max                        1.00  "
      ]
     },
     "execution_count": 317,
     "metadata": {},
     "output_type": "execute_result"
    }
   ],
   "source": [
    "np.round(x_train_scaled.describe(), 2)"
   ]
  },
  {
   "cell_type": "markdown",
   "id": "08929043",
   "metadata": {},
   "source": [
    "# Building Model on Scaled dataset."
   ]
  },
  {
   "cell_type": "code",
   "execution_count": 318,
   "id": "d523c705",
   "metadata": {},
   "outputs": [
    {
     "data": {
      "text/plain": [
       "LogisticRegression()"
      ]
     },
     "execution_count": 318,
     "metadata": {},
     "output_type": "execute_result"
    }
   ],
   "source": [
    "# creating Model\n",
    "\n",
    "from sklearn.linear_model import LogisticRegression\n",
    "reg = LogisticRegression()\n",
    "reg.fit(x_train_scaled,y_train) "
   ]
  },
  {
   "cell_type": "code",
   "execution_count": 319,
   "id": "9f2e7a93",
   "metadata": {},
   "outputs": [],
   "source": [
    "y_pred_scaled=reg.predict(x_test_scaled)"
   ]
  },
  {
   "cell_type": "code",
   "execution_count": 320,
   "id": "a8a37744",
   "metadata": {},
   "outputs": [
    {
     "data": {
      "text/plain": [
       "array([1, 0, 1, 0, 0, 0, 0, 0, 1, 0, 0, 0, 0, 0, 0, 1, 1, 1, 0, 1, 1, 0,\n",
       "       1, 0, 1, 0, 1, 0, 1, 0, 0, 0, 1])"
      ]
     },
     "execution_count": 320,
     "metadata": {},
     "output_type": "execute_result"
    }
   ],
   "source": [
    "y_pred_scaled"
   ]
  },
  {
   "cell_type": "code",
   "execution_count": 321,
   "id": "3c048400",
   "metadata": {},
   "outputs": [
    {
     "data": {
      "text/plain": [
       "159    1\n",
       "97     0\n",
       "116    1\n",
       "8      0\n",
       "102    0\n",
       "62     0\n",
       "149    0\n",
       "49     0\n",
       "30     1\n",
       "48     0\n",
       "150    0\n",
       "104    0\n",
       "145    0\n",
       "57     0\n",
       "98     0\n",
       "132    1\n",
       "41     1\n",
       "118    1\n",
       "110    0\n",
       "176    1\n",
       "121    1\n",
       "152    0\n",
       "37     1\n",
       "61     0\n",
       "160    1\n",
       "9      0\n",
       "164    1\n",
       "60     0\n",
       "158    1\n",
       "137    0\n",
       "66     0\n",
       "67     0\n",
       "169    1\n",
       "Name: Target, dtype: int32"
      ]
     },
     "execution_count": 321,
     "metadata": {},
     "output_type": "execute_result"
    }
   ],
   "source": [
    "y_test"
   ]
  },
  {
   "cell_type": "code",
   "execution_count": 322,
   "id": "0eeb0cf1",
   "metadata": {},
   "outputs": [
    {
     "name": "stdout",
     "output_type": "stream",
     "text": [
      "              precision    recall  f1-score   support\n",
      "\n",
      "           0       1.00      1.00      1.00        20\n",
      "           1       1.00      1.00      1.00        13\n",
      "\n",
      "    accuracy                           1.00        33\n",
      "   macro avg       1.00      1.00      1.00        33\n",
      "weighted avg       1.00      1.00      1.00        33\n",
      "\n",
      "[[20  0]\n",
      " [ 0 13]]\n",
      "Training Score:  96.94656488549617\n"
     ]
    }
   ],
   "source": [
    "from sklearn.metrics import accuracy_score,classification_report,confusion_matrix,r2_score\n",
    "\n",
    "print(classification_report(y_test, y_pred_scaled))\n",
    "print(confusion_matrix(y_test, y_pred_scaled))\n",
    "print(\"Training Score: \",reg.score(x_train_scaled, y_train)*100)"
   ]
  },
  {
   "cell_type": "code",
   "execution_count": 323,
   "id": "30bd7996",
   "metadata": {},
   "outputs": [
    {
     "data": {
      "text/html": [
       "<div>\n",
       "<style scoped>\n",
       "    .dataframe tbody tr th:only-of-type {\n",
       "        vertical-align: middle;\n",
       "    }\n",
       "\n",
       "    .dataframe tbody tr th {\n",
       "        vertical-align: top;\n",
       "    }\n",
       "\n",
       "    .dataframe thead th {\n",
       "        text-align: right;\n",
       "    }\n",
       "</style>\n",
       "<table border=\"1\" class=\"dataframe\">\n",
       "  <thead>\n",
       "    <tr style=\"text-align: right;\">\n",
       "      <th></th>\n",
       "      <th>Actual</th>\n",
       "      <th>Predicted</th>\n",
       "    </tr>\n",
       "  </thead>\n",
       "  <tbody>\n",
       "    <tr>\n",
       "      <th>159</th>\n",
       "      <td>1</td>\n",
       "      <td>1</td>\n",
       "    </tr>\n",
       "    <tr>\n",
       "      <th>97</th>\n",
       "      <td>0</td>\n",
       "      <td>0</td>\n",
       "    </tr>\n",
       "    <tr>\n",
       "      <th>116</th>\n",
       "      <td>1</td>\n",
       "      <td>1</td>\n",
       "    </tr>\n",
       "    <tr>\n",
       "      <th>8</th>\n",
       "      <td>0</td>\n",
       "      <td>0</td>\n",
       "    </tr>\n",
       "    <tr>\n",
       "      <th>102</th>\n",
       "      <td>0</td>\n",
       "      <td>0</td>\n",
       "    </tr>\n",
       "    <tr>\n",
       "      <th>62</th>\n",
       "      <td>0</td>\n",
       "      <td>0</td>\n",
       "    </tr>\n",
       "    <tr>\n",
       "      <th>149</th>\n",
       "      <td>0</td>\n",
       "      <td>0</td>\n",
       "    </tr>\n",
       "    <tr>\n",
       "      <th>49</th>\n",
       "      <td>0</td>\n",
       "      <td>0</td>\n",
       "    </tr>\n",
       "    <tr>\n",
       "      <th>30</th>\n",
       "      <td>1</td>\n",
       "      <td>1</td>\n",
       "    </tr>\n",
       "    <tr>\n",
       "      <th>48</th>\n",
       "      <td>0</td>\n",
       "      <td>0</td>\n",
       "    </tr>\n",
       "    <tr>\n",
       "      <th>150</th>\n",
       "      <td>0</td>\n",
       "      <td>0</td>\n",
       "    </tr>\n",
       "    <tr>\n",
       "      <th>104</th>\n",
       "      <td>0</td>\n",
       "      <td>0</td>\n",
       "    </tr>\n",
       "    <tr>\n",
       "      <th>145</th>\n",
       "      <td>0</td>\n",
       "      <td>0</td>\n",
       "    </tr>\n",
       "    <tr>\n",
       "      <th>57</th>\n",
       "      <td>0</td>\n",
       "      <td>0</td>\n",
       "    </tr>\n",
       "    <tr>\n",
       "      <th>98</th>\n",
       "      <td>0</td>\n",
       "      <td>0</td>\n",
       "    </tr>\n",
       "    <tr>\n",
       "      <th>132</th>\n",
       "      <td>1</td>\n",
       "      <td>1</td>\n",
       "    </tr>\n",
       "    <tr>\n",
       "      <th>41</th>\n",
       "      <td>1</td>\n",
       "      <td>1</td>\n",
       "    </tr>\n",
       "    <tr>\n",
       "      <th>118</th>\n",
       "      <td>1</td>\n",
       "      <td>1</td>\n",
       "    </tr>\n",
       "    <tr>\n",
       "      <th>110</th>\n",
       "      <td>0</td>\n",
       "      <td>0</td>\n",
       "    </tr>\n",
       "    <tr>\n",
       "      <th>176</th>\n",
       "      <td>1</td>\n",
       "      <td>1</td>\n",
       "    </tr>\n",
       "    <tr>\n",
       "      <th>121</th>\n",
       "      <td>1</td>\n",
       "      <td>1</td>\n",
       "    </tr>\n",
       "    <tr>\n",
       "      <th>152</th>\n",
       "      <td>0</td>\n",
       "      <td>0</td>\n",
       "    </tr>\n",
       "    <tr>\n",
       "      <th>37</th>\n",
       "      <td>1</td>\n",
       "      <td>1</td>\n",
       "    </tr>\n",
       "    <tr>\n",
       "      <th>61</th>\n",
       "      <td>0</td>\n",
       "      <td>0</td>\n",
       "    </tr>\n",
       "    <tr>\n",
       "      <th>160</th>\n",
       "      <td>1</td>\n",
       "      <td>1</td>\n",
       "    </tr>\n",
       "    <tr>\n",
       "      <th>9</th>\n",
       "      <td>0</td>\n",
       "      <td>0</td>\n",
       "    </tr>\n",
       "    <tr>\n",
       "      <th>164</th>\n",
       "      <td>1</td>\n",
       "      <td>1</td>\n",
       "    </tr>\n",
       "    <tr>\n",
       "      <th>60</th>\n",
       "      <td>0</td>\n",
       "      <td>0</td>\n",
       "    </tr>\n",
       "    <tr>\n",
       "      <th>158</th>\n",
       "      <td>1</td>\n",
       "      <td>1</td>\n",
       "    </tr>\n",
       "    <tr>\n",
       "      <th>137</th>\n",
       "      <td>0</td>\n",
       "      <td>0</td>\n",
       "    </tr>\n",
       "    <tr>\n",
       "      <th>66</th>\n",
       "      <td>0</td>\n",
       "      <td>0</td>\n",
       "    </tr>\n",
       "    <tr>\n",
       "      <th>67</th>\n",
       "      <td>0</td>\n",
       "      <td>0</td>\n",
       "    </tr>\n",
       "    <tr>\n",
       "      <th>169</th>\n",
       "      <td>1</td>\n",
       "      <td>1</td>\n",
       "    </tr>\n",
       "  </tbody>\n",
       "</table>\n",
       "</div>"
      ],
      "text/plain": [
       "     Actual  Predicted\n",
       "159       1          1\n",
       "97        0          0\n",
       "116       1          1\n",
       "8         0          0\n",
       "102       0          0\n",
       "62        0          0\n",
       "149       0          0\n",
       "49        0          0\n",
       "30        1          1\n",
       "48        0          0\n",
       "150       0          0\n",
       "104       0          0\n",
       "145       0          0\n",
       "57        0          0\n",
       "98        0          0\n",
       "132       1          1\n",
       "41        1          1\n",
       "118       1          1\n",
       "110       0          0\n",
       "176       1          1\n",
       "121       1          1\n",
       "152       0          0\n",
       "37        1          1\n",
       "61        0          0\n",
       "160       1          1\n",
       "9         0          0\n",
       "164       1          1\n",
       "60        0          0\n",
       "158       1          1\n",
       "137       0          0\n",
       "66        0          0\n",
       "67        0          0\n",
       "169       1          1"
      ]
     },
     "execution_count": 323,
     "metadata": {},
     "output_type": "execute_result"
    }
   ],
   "source": [
    "df7 = pd.DataFrame({'Actual': y_test, 'Predicted': y_pred_scaled})\n",
    "df7"
   ]
  },
  {
   "cell_type": "code",
   "execution_count": 324,
   "id": "214ab325",
   "metadata": {},
   "outputs": [
    {
     "name": "stdout",
     "output_type": "stream",
     "text": [
      "100.0\n"
     ]
    }
   ],
   "source": [
    "print(accuracy_score(y_test, y_pred_scaled)*100)"
   ]
  },
  {
   "cell_type": "code",
   "execution_count": 325,
   "id": "3c23ae9f",
   "metadata": {},
   "outputs": [
    {
     "data": {
      "text/plain": [
       "DecisionTreeClassifier(max_depth=6, random_state=123)"
      ]
     },
     "execution_count": 325,
     "metadata": {},
     "output_type": "execute_result"
    }
   ],
   "source": [
    "# using DecissionTree Classifier\n",
    "\n",
    "from sklearn.tree import DecisionTreeClassifier\n",
    "dtree = DecisionTreeClassifier(max_depth=6, random_state=123)\n",
    "\n",
    "dtree.fit(x_train_scaled,y_train)"
   ]
  },
  {
   "cell_type": "code",
   "execution_count": 326,
   "id": "24df4a45",
   "metadata": {},
   "outputs": [],
   "source": [
    "y_pred=dtree.predict(x_test_scaled)"
   ]
  },
  {
   "cell_type": "code",
   "execution_count": 327,
   "id": "9c75f5f3",
   "metadata": {},
   "outputs": [
    {
     "name": "stdout",
     "output_type": "stream",
     "text": [
      "              precision    recall  f1-score   support\n",
      "\n",
      "           0       1.00      1.00      1.00        20\n",
      "           1       1.00      1.00      1.00        13\n",
      "\n",
      "    accuracy                           1.00        33\n",
      "   macro avg       1.00      1.00      1.00        33\n",
      "weighted avg       1.00      1.00      1.00        33\n",
      "\n",
      "[[20  0]\n",
      " [ 0 13]]\n",
      "Training Score:  100.0\n"
     ]
    }
   ],
   "source": [
    "from sklearn.metrics import classification_report,confusion_matrix,accuracy_score,mean_squared_error\n",
    "print(classification_report(y_test,y_pred))\n",
    "print(confusion_matrix(y_test,y_pred))\n",
    "print(\"Training Score: \",dtree.score(x_train_scaled,y_train)*100)"
   ]
  },
  {
   "cell_type": "code",
   "execution_count": 328,
   "id": "5597f3bc",
   "metadata": {},
   "outputs": [
    {
     "name": "stdout",
     "output_type": "stream",
     "text": [
      "100.0\n"
     ]
    }
   ],
   "source": [
    "print(accuracy_score(y_test,y_pred)*100)"
   ]
  }
 ],
 "metadata": {
  "kernelspec": {
   "display_name": "Python 3 (ipykernel)",
   "language": "python",
   "name": "python3"
  },
  "language_info": {
   "codemirror_mode": {
    "name": "ipython",
    "version": 3
   },
   "file_extension": ".py",
   "mimetype": "text/x-python",
   "name": "python",
   "nbconvert_exporter": "python",
   "pygments_lexer": "ipython3",
   "version": "3.9.7"
  }
 },
 "nbformat": 4,
 "nbformat_minor": 5
}
